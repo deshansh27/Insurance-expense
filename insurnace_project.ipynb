{
  "nbformat": 4,
  "nbformat_minor": 0,
  "metadata": {
    "colab": {
      "provenance": []
    },
    "kernelspec": {
      "name": "python3",
      "display_name": "Python 3"
    },
    "language_info": {
      "name": "python"
    }
  },
  "cells": [
    {
      "cell_type": "code",
      "execution_count": 320,
      "metadata": {
        "id": "kYWPSb6w5E68"
      },
      "outputs": [],
      "source": [
        "import numpy as np\n",
        "import pandas as pd\n",
        "import matplotlib.pyplot as plt"
      ]
    },
    {
      "cell_type": "code",
      "source": [
        "dataset=pd.read_csv('/content/insurance.csv')"
      ],
      "metadata": {
        "id": "e0X0JN1A5cNR"
      },
      "execution_count": 321,
      "outputs": []
    },
    {
      "cell_type": "code",
      "source": [
        "dataset.keys()"
      ],
      "metadata": {
        "colab": {
          "base_uri": "https://localhost:8080/"
        },
        "id": "j1OMd3L25rQ9",
        "outputId": "a69f1811-6c0c-4691-e556-a09bab49c88b"
      },
      "execution_count": 322,
      "outputs": [
        {
          "output_type": "execute_result",
          "data": {
            "text/plain": [
              "Index(['age', 'sex', 'bmi', 'children', 'smoker', 'region', 'expenses'], dtype='object')"
            ]
          },
          "metadata": {},
          "execution_count": 322
        }
      ]
    },
    {
      "cell_type": "code",
      "source": [
        "# description of dataset\n",
        "print(dataset)"
      ],
      "metadata": {
        "colab": {
          "base_uri": "https://localhost:8080/"
        },
        "id": "ISwAnyL_6MlS",
        "outputId": "1b6dc6ff-d80b-4876-b405-16249e61ea36"
      },
      "execution_count": 323,
      "outputs": [
        {
          "output_type": "stream",
          "name": "stdout",
          "text": [
            "      age     sex   bmi  children smoker     region  expenses\n",
            "0      19  female  27.9         0    yes  southwest  16884.92\n",
            "1      18    male  33.8         1     no  southeast   1725.55\n",
            "2      28    male  33.0         3     no  southeast   4449.46\n",
            "3      33    male  22.7         0     no  northwest  21984.47\n",
            "4      32    male  28.9         0     no  northwest   3866.86\n",
            "...   ...     ...   ...       ...    ...        ...       ...\n",
            "1333   50    male  31.0         3     no  northwest  10600.55\n",
            "1334   18  female  31.9         0     no  northeast   2205.98\n",
            "1335   18  female  36.9         0     no  southeast   1629.83\n",
            "1336   21  female  25.8         0     no  southwest   2007.95\n",
            "1337   61  female  29.1         0    yes  northwest  29141.36\n",
            "\n",
            "[1338 rows x 7 columns]\n"
          ]
        }
      ]
    },
    {
      "cell_type": "code",
      "source": [
        "dataset.head()"
      ],
      "metadata": {
        "colab": {
          "base_uri": "https://localhost:8080/",
          "height": 206
        },
        "id": "z7unSors6S7S",
        "outputId": "60cf114c-cf6a-404e-8c64-90c87d4bb99b"
      },
      "execution_count": 324,
      "outputs": [
        {
          "output_type": "execute_result",
          "data": {
            "text/plain": [
              "   age     sex   bmi  children smoker     region  expenses\n",
              "0   19  female  27.9         0    yes  southwest  16884.92\n",
              "1   18    male  33.8         1     no  southeast   1725.55\n",
              "2   28    male  33.0         3     no  southeast   4449.46\n",
              "3   33    male  22.7         0     no  northwest  21984.47\n",
              "4   32    male  28.9         0     no  northwest   3866.86"
            ],
            "text/html": [
              "\n",
              "  <div id=\"df-cd0e3409-228b-448a-be4e-2a188b859188\">\n",
              "    <div class=\"colab-df-container\">\n",
              "      <div>\n",
              "<style scoped>\n",
              "    .dataframe tbody tr th:only-of-type {\n",
              "        vertical-align: middle;\n",
              "    }\n",
              "\n",
              "    .dataframe tbody tr th {\n",
              "        vertical-align: top;\n",
              "    }\n",
              "\n",
              "    .dataframe thead th {\n",
              "        text-align: right;\n",
              "    }\n",
              "</style>\n",
              "<table border=\"1\" class=\"dataframe\">\n",
              "  <thead>\n",
              "    <tr style=\"text-align: right;\">\n",
              "      <th></th>\n",
              "      <th>age</th>\n",
              "      <th>sex</th>\n",
              "      <th>bmi</th>\n",
              "      <th>children</th>\n",
              "      <th>smoker</th>\n",
              "      <th>region</th>\n",
              "      <th>expenses</th>\n",
              "    </tr>\n",
              "  </thead>\n",
              "  <tbody>\n",
              "    <tr>\n",
              "      <th>0</th>\n",
              "      <td>19</td>\n",
              "      <td>female</td>\n",
              "      <td>27.9</td>\n",
              "      <td>0</td>\n",
              "      <td>yes</td>\n",
              "      <td>southwest</td>\n",
              "      <td>16884.92</td>\n",
              "    </tr>\n",
              "    <tr>\n",
              "      <th>1</th>\n",
              "      <td>18</td>\n",
              "      <td>male</td>\n",
              "      <td>33.8</td>\n",
              "      <td>1</td>\n",
              "      <td>no</td>\n",
              "      <td>southeast</td>\n",
              "      <td>1725.55</td>\n",
              "    </tr>\n",
              "    <tr>\n",
              "      <th>2</th>\n",
              "      <td>28</td>\n",
              "      <td>male</td>\n",
              "      <td>33.0</td>\n",
              "      <td>3</td>\n",
              "      <td>no</td>\n",
              "      <td>southeast</td>\n",
              "      <td>4449.46</td>\n",
              "    </tr>\n",
              "    <tr>\n",
              "      <th>3</th>\n",
              "      <td>33</td>\n",
              "      <td>male</td>\n",
              "      <td>22.7</td>\n",
              "      <td>0</td>\n",
              "      <td>no</td>\n",
              "      <td>northwest</td>\n",
              "      <td>21984.47</td>\n",
              "    </tr>\n",
              "    <tr>\n",
              "      <th>4</th>\n",
              "      <td>32</td>\n",
              "      <td>male</td>\n",
              "      <td>28.9</td>\n",
              "      <td>0</td>\n",
              "      <td>no</td>\n",
              "      <td>northwest</td>\n",
              "      <td>3866.86</td>\n",
              "    </tr>\n",
              "  </tbody>\n",
              "</table>\n",
              "</div>\n",
              "      <button class=\"colab-df-convert\" onclick=\"convertToInteractive('df-cd0e3409-228b-448a-be4e-2a188b859188')\"\n",
              "              title=\"Convert this dataframe to an interactive table.\"\n",
              "              style=\"display:none;\">\n",
              "        \n",
              "  <svg xmlns=\"http://www.w3.org/2000/svg\" height=\"24px\"viewBox=\"0 0 24 24\"\n",
              "       width=\"24px\">\n",
              "    <path d=\"M0 0h24v24H0V0z\" fill=\"none\"/>\n",
              "    <path d=\"M18.56 5.44l.94 2.06.94-2.06 2.06-.94-2.06-.94-.94-2.06-.94 2.06-2.06.94zm-11 1L8.5 8.5l.94-2.06 2.06-.94-2.06-.94L8.5 2.5l-.94 2.06-2.06.94zm10 10l.94 2.06.94-2.06 2.06-.94-2.06-.94-.94-2.06-.94 2.06-2.06.94z\"/><path d=\"M17.41 7.96l-1.37-1.37c-.4-.4-.92-.59-1.43-.59-.52 0-1.04.2-1.43.59L10.3 9.45l-7.72 7.72c-.78.78-.78 2.05 0 2.83L4 21.41c.39.39.9.59 1.41.59.51 0 1.02-.2 1.41-.59l7.78-7.78 2.81-2.81c.8-.78.8-2.07 0-2.86zM5.41 20L4 18.59l7.72-7.72 1.47 1.35L5.41 20z\"/>\n",
              "  </svg>\n",
              "      </button>\n",
              "      \n",
              "  <style>\n",
              "    .colab-df-container {\n",
              "      display:flex;\n",
              "      flex-wrap:wrap;\n",
              "      gap: 12px;\n",
              "    }\n",
              "\n",
              "    .colab-df-convert {\n",
              "      background-color: #E8F0FE;\n",
              "      border: none;\n",
              "      border-radius: 50%;\n",
              "      cursor: pointer;\n",
              "      display: none;\n",
              "      fill: #1967D2;\n",
              "      height: 32px;\n",
              "      padding: 0 0 0 0;\n",
              "      width: 32px;\n",
              "    }\n",
              "\n",
              "    .colab-df-convert:hover {\n",
              "      background-color: #E2EBFA;\n",
              "      box-shadow: 0px 1px 2px rgba(60, 64, 67, 0.3), 0px 1px 3px 1px rgba(60, 64, 67, 0.15);\n",
              "      fill: #174EA6;\n",
              "    }\n",
              "\n",
              "    [theme=dark] .colab-df-convert {\n",
              "      background-color: #3B4455;\n",
              "      fill: #D2E3FC;\n",
              "    }\n",
              "\n",
              "    [theme=dark] .colab-df-convert:hover {\n",
              "      background-color: #434B5C;\n",
              "      box-shadow: 0px 1px 3px 1px rgba(0, 0, 0, 0.15);\n",
              "      filter: drop-shadow(0px 1px 2px rgba(0, 0, 0, 0.3));\n",
              "      fill: #FFFFFF;\n",
              "    }\n",
              "  </style>\n",
              "\n",
              "      <script>\n",
              "        const buttonEl =\n",
              "          document.querySelector('#df-cd0e3409-228b-448a-be4e-2a188b859188 button.colab-df-convert');\n",
              "        buttonEl.style.display =\n",
              "          google.colab.kernel.accessAllowed ? 'block' : 'none';\n",
              "\n",
              "        async function convertToInteractive(key) {\n",
              "          const element = document.querySelector('#df-cd0e3409-228b-448a-be4e-2a188b859188');\n",
              "          const dataTable =\n",
              "            await google.colab.kernel.invokeFunction('convertToInteractive',\n",
              "                                                     [key], {});\n",
              "          if (!dataTable) return;\n",
              "\n",
              "          const docLinkHtml = 'Like what you see? Visit the ' +\n",
              "            '<a target=\"_blank\" href=https://colab.research.google.com/notebooks/data_table.ipynb>data table notebook</a>'\n",
              "            + ' to learn more about interactive tables.';\n",
              "          element.innerHTML = '';\n",
              "          dataTable['output_type'] = 'display_data';\n",
              "          await google.colab.output.renderOutput(dataTable, element);\n",
              "          const docLink = document.createElement('div');\n",
              "          docLink.innerHTML = docLinkHtml;\n",
              "          element.appendChild(docLink);\n",
              "        }\n",
              "      </script>\n",
              "    </div>\n",
              "  </div>\n",
              "  "
            ]
          },
          "metadata": {},
          "execution_count": 324
        }
      ]
    },
    {
      "cell_type": "code",
      "source": [
        "dataset.info()"
      ],
      "metadata": {
        "colab": {
          "base_uri": "https://localhost:8080/"
        },
        "id": "E9lC8CoD7E7s",
        "outputId": "c22988c6-9f42-454e-f32a-5576d9cb4b77"
      },
      "execution_count": 325,
      "outputs": [
        {
          "output_type": "stream",
          "name": "stdout",
          "text": [
            "<class 'pandas.core.frame.DataFrame'>\n",
            "RangeIndex: 1338 entries, 0 to 1337\n",
            "Data columns (total 7 columns):\n",
            " #   Column    Non-Null Count  Dtype  \n",
            "---  ------    --------------  -----  \n",
            " 0   age       1338 non-null   int64  \n",
            " 1   sex       1338 non-null   object \n",
            " 2   bmi       1338 non-null   float64\n",
            " 3   children  1338 non-null   int64  \n",
            " 4   smoker    1338 non-null   object \n",
            " 5   region    1338 non-null   object \n",
            " 6   expenses  1338 non-null   float64\n",
            "dtypes: float64(2), int64(2), object(3)\n",
            "memory usage: 73.3+ KB\n"
          ]
        }
      ]
    },
    {
      "cell_type": "code",
      "source": [
        "# checing for null values\n",
        "dataset.isna().sum()"
      ],
      "metadata": {
        "colab": {
          "base_uri": "https://localhost:8080/"
        },
        "id": "Ar5c2sPF7G_u",
        "outputId": "9c9d47f5-1b23-4386-94c3-a25277281b36"
      },
      "execution_count": 326,
      "outputs": [
        {
          "output_type": "execute_result",
          "data": {
            "text/plain": [
              "age         0\n",
              "sex         0\n",
              "bmi         0\n",
              "children    0\n",
              "smoker      0\n",
              "region      0\n",
              "expenses    0\n",
              "dtype: int64"
            ]
          },
          "metadata": {},
          "execution_count": 326
        }
      ]
    },
    {
      "cell_type": "code",
      "source": [
        "dataset['sex'].unique()"
      ],
      "metadata": {
        "colab": {
          "base_uri": "https://localhost:8080/"
        },
        "id": "3-vh4MKT70QC",
        "outputId": "817be0d6-d298-465a-ae74-b955916c1801"
      },
      "execution_count": 327,
      "outputs": [
        {
          "output_type": "execute_result",
          "data": {
            "text/plain": [
              "array(['female', 'male'], dtype=object)"
            ]
          },
          "metadata": {},
          "execution_count": 327
        }
      ]
    },
    {
      "cell_type": "code",
      "source": [
        "from sklearn.preprocessing import LabelEncoder\n",
        "lbl=LabelEncoder()\n",
        "dataset['sex']=lbl.fit_transform(dataset['sex'])\n"
      ],
      "metadata": {
        "id": "46LQKaTx8LUa"
      },
      "execution_count": 328,
      "outputs": []
    },
    {
      "cell_type": "code",
      "source": [
        "#after label encoding of sex column , female = 0 and male =1\n",
        "dataset['sex'].unique()    "
      ],
      "metadata": {
        "colab": {
          "base_uri": "https://localhost:8080/"
        },
        "id": "-kQIonpB8XnA",
        "outputId": "e68f32b7-ded1-4786-d8d8-b5d9fbeb9538"
      },
      "execution_count": 329,
      "outputs": [
        {
          "output_type": "execute_result",
          "data": {
            "text/plain": [
              "array([0, 1])"
            ]
          },
          "metadata": {},
          "execution_count": 329
        }
      ]
    },
    {
      "cell_type": "code",
      "source": [
        "dataset['smoker'].unique()"
      ],
      "metadata": {
        "colab": {
          "base_uri": "https://localhost:8080/"
        },
        "id": "XVLE22SB8uaV",
        "outputId": "16305217-447c-4688-9136-98cf404722d6"
      },
      "execution_count": 330,
      "outputs": [
        {
          "output_type": "execute_result",
          "data": {
            "text/plain": [
              "array(['yes', 'no'], dtype=object)"
            ]
          },
          "metadata": {},
          "execution_count": 330
        }
      ]
    },
    {
      "cell_type": "code",
      "source": [
        "dataset['smoker']=lbl.fit_transform(dataset['smoker'])"
      ],
      "metadata": {
        "id": "fuoZoDVf9ElQ"
      },
      "execution_count": 331,
      "outputs": []
    },
    {
      "cell_type": "code",
      "source": [
        "dataset['smoker'].unique()   # smoker column, yes=1,no=0"
      ],
      "metadata": {
        "colab": {
          "base_uri": "https://localhost:8080/"
        },
        "id": "kbcQ1Y-s9Uh3",
        "outputId": "d277331f-4dd3-48cc-adf5-b6a4a44b06ed"
      },
      "execution_count": 332,
      "outputs": [
        {
          "output_type": "execute_result",
          "data": {
            "text/plain": [
              "array([1, 0])"
            ]
          },
          "metadata": {},
          "execution_count": 332
        }
      ]
    },
    {
      "cell_type": "code",
      "source": [
        "dataset['region'].unique()"
      ],
      "metadata": {
        "colab": {
          "base_uri": "https://localhost:8080/"
        },
        "id": "LwhZ8pbW9W8T",
        "outputId": "59038cc0-1023-4700-bb11-9bd089cbc5ec"
      },
      "execution_count": 333,
      "outputs": [
        {
          "output_type": "execute_result",
          "data": {
            "text/plain": [
              "array(['southwest', 'southeast', 'northwest', 'northeast'], dtype=object)"
            ]
          },
          "metadata": {},
          "execution_count": 333
        }
      ]
    },
    {
      "cell_type": "code",
      "source": [
        "# since there are 4 unqiue values in region column we will use one-hot encoding "
      ],
      "metadata": {
        "id": "CcC-1AIl9hGk"
      },
      "execution_count": 334,
      "outputs": []
    },
    {
      "cell_type": "code",
      "source": [
        "dataset['region'].value_counts()"
      ],
      "metadata": {
        "colab": {
          "base_uri": "https://localhost:8080/"
        },
        "id": "1jMYD19w9s20",
        "outputId": "6020c8b3-eab4-4fd8-92b3-34ea856ca0a9"
      },
      "execution_count": 335,
      "outputs": [
        {
          "output_type": "execute_result",
          "data": {
            "text/plain": [
              "southeast    364\n",
              "southwest    325\n",
              "northwest    325\n",
              "northeast    324\n",
              "Name: region, dtype: int64"
            ]
          },
          "metadata": {},
          "execution_count": 335
        }
      ]
    },
    {
      "cell_type": "code",
      "source": [
        "encoded_data=pd.get_dummies(dataset,columns=['region'])\n",
        "print(encoded_data)"
      ],
      "metadata": {
        "colab": {
          "base_uri": "https://localhost:8080/"
        },
        "id": "0LdiPKMG98wb",
        "outputId": "a1a3a65a-a0a2-4323-832b-ba447716176f"
      },
      "execution_count": 336,
      "outputs": [
        {
          "output_type": "stream",
          "name": "stdout",
          "text": [
            "      age  sex   bmi  children  smoker  expenses  region_northeast  \\\n",
            "0      19    0  27.9         0       1  16884.92                 0   \n",
            "1      18    1  33.8         1       0   1725.55                 0   \n",
            "2      28    1  33.0         3       0   4449.46                 0   \n",
            "3      33    1  22.7         0       0  21984.47                 0   \n",
            "4      32    1  28.9         0       0   3866.86                 0   \n",
            "...   ...  ...   ...       ...     ...       ...               ...   \n",
            "1333   50    1  31.0         3       0  10600.55                 0   \n",
            "1334   18    0  31.9         0       0   2205.98                 1   \n",
            "1335   18    0  36.9         0       0   1629.83                 0   \n",
            "1336   21    0  25.8         0       0   2007.95                 0   \n",
            "1337   61    0  29.1         0       1  29141.36                 0   \n",
            "\n",
            "      region_northwest  region_southeast  region_southwest  \n",
            "0                    0                 0                 1  \n",
            "1                    0                 1                 0  \n",
            "2                    0                 1                 0  \n",
            "3                    1                 0                 0  \n",
            "4                    1                 0                 0  \n",
            "...                ...               ...               ...  \n",
            "1333                 1                 0                 0  \n",
            "1334                 0                 0                 0  \n",
            "1335                 0                 1                 0  \n",
            "1336                 0                 0                 1  \n",
            "1337                 1                 0                 0  \n",
            "\n",
            "[1338 rows x 10 columns]\n"
          ]
        }
      ]
    },
    {
      "cell_type": "code",
      "source": [
        "encoded_data.head()"
      ],
      "metadata": {
        "colab": {
          "base_uri": "https://localhost:8080/",
          "height": 206
        },
        "id": "95EDRmjm-caM",
        "outputId": "22907069-12d9-4260-c1a1-d0b68cae8acb"
      },
      "execution_count": 337,
      "outputs": [
        {
          "output_type": "execute_result",
          "data": {
            "text/plain": [
              "   age  sex   bmi  children  smoker  expenses  region_northeast  \\\n",
              "0   19    0  27.9         0       1  16884.92                 0   \n",
              "1   18    1  33.8         1       0   1725.55                 0   \n",
              "2   28    1  33.0         3       0   4449.46                 0   \n",
              "3   33    1  22.7         0       0  21984.47                 0   \n",
              "4   32    1  28.9         0       0   3866.86                 0   \n",
              "\n",
              "   region_northwest  region_southeast  region_southwest  \n",
              "0                 0                 0                 1  \n",
              "1                 0                 1                 0  \n",
              "2                 0                 1                 0  \n",
              "3                 1                 0                 0  \n",
              "4                 1                 0                 0  "
            ],
            "text/html": [
              "\n",
              "  <div id=\"df-62c38436-7614-4b0d-8e6f-00bad740c58a\">\n",
              "    <div class=\"colab-df-container\">\n",
              "      <div>\n",
              "<style scoped>\n",
              "    .dataframe tbody tr th:only-of-type {\n",
              "        vertical-align: middle;\n",
              "    }\n",
              "\n",
              "    .dataframe tbody tr th {\n",
              "        vertical-align: top;\n",
              "    }\n",
              "\n",
              "    .dataframe thead th {\n",
              "        text-align: right;\n",
              "    }\n",
              "</style>\n",
              "<table border=\"1\" class=\"dataframe\">\n",
              "  <thead>\n",
              "    <tr style=\"text-align: right;\">\n",
              "      <th></th>\n",
              "      <th>age</th>\n",
              "      <th>sex</th>\n",
              "      <th>bmi</th>\n",
              "      <th>children</th>\n",
              "      <th>smoker</th>\n",
              "      <th>expenses</th>\n",
              "      <th>region_northeast</th>\n",
              "      <th>region_northwest</th>\n",
              "      <th>region_southeast</th>\n",
              "      <th>region_southwest</th>\n",
              "    </tr>\n",
              "  </thead>\n",
              "  <tbody>\n",
              "    <tr>\n",
              "      <th>0</th>\n",
              "      <td>19</td>\n",
              "      <td>0</td>\n",
              "      <td>27.9</td>\n",
              "      <td>0</td>\n",
              "      <td>1</td>\n",
              "      <td>16884.92</td>\n",
              "      <td>0</td>\n",
              "      <td>0</td>\n",
              "      <td>0</td>\n",
              "      <td>1</td>\n",
              "    </tr>\n",
              "    <tr>\n",
              "      <th>1</th>\n",
              "      <td>18</td>\n",
              "      <td>1</td>\n",
              "      <td>33.8</td>\n",
              "      <td>1</td>\n",
              "      <td>0</td>\n",
              "      <td>1725.55</td>\n",
              "      <td>0</td>\n",
              "      <td>0</td>\n",
              "      <td>1</td>\n",
              "      <td>0</td>\n",
              "    </tr>\n",
              "    <tr>\n",
              "      <th>2</th>\n",
              "      <td>28</td>\n",
              "      <td>1</td>\n",
              "      <td>33.0</td>\n",
              "      <td>3</td>\n",
              "      <td>0</td>\n",
              "      <td>4449.46</td>\n",
              "      <td>0</td>\n",
              "      <td>0</td>\n",
              "      <td>1</td>\n",
              "      <td>0</td>\n",
              "    </tr>\n",
              "    <tr>\n",
              "      <th>3</th>\n",
              "      <td>33</td>\n",
              "      <td>1</td>\n",
              "      <td>22.7</td>\n",
              "      <td>0</td>\n",
              "      <td>0</td>\n",
              "      <td>21984.47</td>\n",
              "      <td>0</td>\n",
              "      <td>1</td>\n",
              "      <td>0</td>\n",
              "      <td>0</td>\n",
              "    </tr>\n",
              "    <tr>\n",
              "      <th>4</th>\n",
              "      <td>32</td>\n",
              "      <td>1</td>\n",
              "      <td>28.9</td>\n",
              "      <td>0</td>\n",
              "      <td>0</td>\n",
              "      <td>3866.86</td>\n",
              "      <td>0</td>\n",
              "      <td>1</td>\n",
              "      <td>0</td>\n",
              "      <td>0</td>\n",
              "    </tr>\n",
              "  </tbody>\n",
              "</table>\n",
              "</div>\n",
              "      <button class=\"colab-df-convert\" onclick=\"convertToInteractive('df-62c38436-7614-4b0d-8e6f-00bad740c58a')\"\n",
              "              title=\"Convert this dataframe to an interactive table.\"\n",
              "              style=\"display:none;\">\n",
              "        \n",
              "  <svg xmlns=\"http://www.w3.org/2000/svg\" height=\"24px\"viewBox=\"0 0 24 24\"\n",
              "       width=\"24px\">\n",
              "    <path d=\"M0 0h24v24H0V0z\" fill=\"none\"/>\n",
              "    <path d=\"M18.56 5.44l.94 2.06.94-2.06 2.06-.94-2.06-.94-.94-2.06-.94 2.06-2.06.94zm-11 1L8.5 8.5l.94-2.06 2.06-.94-2.06-.94L8.5 2.5l-.94 2.06-2.06.94zm10 10l.94 2.06.94-2.06 2.06-.94-2.06-.94-.94-2.06-.94 2.06-2.06.94z\"/><path d=\"M17.41 7.96l-1.37-1.37c-.4-.4-.92-.59-1.43-.59-.52 0-1.04.2-1.43.59L10.3 9.45l-7.72 7.72c-.78.78-.78 2.05 0 2.83L4 21.41c.39.39.9.59 1.41.59.51 0 1.02-.2 1.41-.59l7.78-7.78 2.81-2.81c.8-.78.8-2.07 0-2.86zM5.41 20L4 18.59l7.72-7.72 1.47 1.35L5.41 20z\"/>\n",
              "  </svg>\n",
              "      </button>\n",
              "      \n",
              "  <style>\n",
              "    .colab-df-container {\n",
              "      display:flex;\n",
              "      flex-wrap:wrap;\n",
              "      gap: 12px;\n",
              "    }\n",
              "\n",
              "    .colab-df-convert {\n",
              "      background-color: #E8F0FE;\n",
              "      border: none;\n",
              "      border-radius: 50%;\n",
              "      cursor: pointer;\n",
              "      display: none;\n",
              "      fill: #1967D2;\n",
              "      height: 32px;\n",
              "      padding: 0 0 0 0;\n",
              "      width: 32px;\n",
              "    }\n",
              "\n",
              "    .colab-df-convert:hover {\n",
              "      background-color: #E2EBFA;\n",
              "      box-shadow: 0px 1px 2px rgba(60, 64, 67, 0.3), 0px 1px 3px 1px rgba(60, 64, 67, 0.15);\n",
              "      fill: #174EA6;\n",
              "    }\n",
              "\n",
              "    [theme=dark] .colab-df-convert {\n",
              "      background-color: #3B4455;\n",
              "      fill: #D2E3FC;\n",
              "    }\n",
              "\n",
              "    [theme=dark] .colab-df-convert:hover {\n",
              "      background-color: #434B5C;\n",
              "      box-shadow: 0px 1px 3px 1px rgba(0, 0, 0, 0.15);\n",
              "      filter: drop-shadow(0px 1px 2px rgba(0, 0, 0, 0.3));\n",
              "      fill: #FFFFFF;\n",
              "    }\n",
              "  </style>\n",
              "\n",
              "      <script>\n",
              "        const buttonEl =\n",
              "          document.querySelector('#df-62c38436-7614-4b0d-8e6f-00bad740c58a button.colab-df-convert');\n",
              "        buttonEl.style.display =\n",
              "          google.colab.kernel.accessAllowed ? 'block' : 'none';\n",
              "\n",
              "        async function convertToInteractive(key) {\n",
              "          const element = document.querySelector('#df-62c38436-7614-4b0d-8e6f-00bad740c58a');\n",
              "          const dataTable =\n",
              "            await google.colab.kernel.invokeFunction('convertToInteractive',\n",
              "                                                     [key], {});\n",
              "          if (!dataTable) return;\n",
              "\n",
              "          const docLinkHtml = 'Like what you see? Visit the ' +\n",
              "            '<a target=\"_blank\" href=https://colab.research.google.com/notebooks/data_table.ipynb>data table notebook</a>'\n",
              "            + ' to learn more about interactive tables.';\n",
              "          element.innerHTML = '';\n",
              "          dataTable['output_type'] = 'display_data';\n",
              "          await google.colab.output.renderOutput(dataTable, element);\n",
              "          const docLink = document.createElement('div');\n",
              "          docLink.innerHTML = docLinkHtml;\n",
              "          element.appendChild(docLink);\n",
              "        }\n",
              "      </script>\n",
              "    </div>\n",
              "  </div>\n",
              "  "
            ]
          },
          "metadata": {},
          "execution_count": 337
        }
      ]
    },
    {
      "cell_type": "code",
      "source": [
        "dataset.corr()"
      ],
      "metadata": {
        "colab": {
          "base_uri": "https://localhost:8080/",
          "height": 292
        },
        "id": "A4sHmFfz-ezj",
        "outputId": "b8352890-acc5-4811-8285-589531a77b13"
      },
      "execution_count": 338,
      "outputs": [
        {
          "output_type": "stream",
          "name": "stderr",
          "text": [
            "<ipython-input-338-c187c74d1e71>:1: FutureWarning: The default value of numeric_only in DataFrame.corr is deprecated. In a future version, it will default to False. Select only valid columns or specify the value of numeric_only to silence this warning.\n",
            "  dataset.corr()\n"
          ]
        },
        {
          "output_type": "execute_result",
          "data": {
            "text/plain": [
              "               age       sex       bmi  children    smoker  expenses\n",
              "age       1.000000 -0.020856  0.109341  0.042469 -0.025019  0.299008\n",
              "sex      -0.020856  1.000000  0.046380  0.017163  0.076185  0.057292\n",
              "bmi       0.109341  0.046380  1.000000  0.012645  0.003968  0.198576\n",
              "children  0.042469  0.017163  0.012645  1.000000  0.007673  0.067998\n",
              "smoker   -0.025019  0.076185  0.003968  0.007673  1.000000  0.787251\n",
              "expenses  0.299008  0.057292  0.198576  0.067998  0.787251  1.000000"
            ],
            "text/html": [
              "\n",
              "  <div id=\"df-9fca2fd2-f491-4b28-82e3-361ec8a52347\">\n",
              "    <div class=\"colab-df-container\">\n",
              "      <div>\n",
              "<style scoped>\n",
              "    .dataframe tbody tr th:only-of-type {\n",
              "        vertical-align: middle;\n",
              "    }\n",
              "\n",
              "    .dataframe tbody tr th {\n",
              "        vertical-align: top;\n",
              "    }\n",
              "\n",
              "    .dataframe thead th {\n",
              "        text-align: right;\n",
              "    }\n",
              "</style>\n",
              "<table border=\"1\" class=\"dataframe\">\n",
              "  <thead>\n",
              "    <tr style=\"text-align: right;\">\n",
              "      <th></th>\n",
              "      <th>age</th>\n",
              "      <th>sex</th>\n",
              "      <th>bmi</th>\n",
              "      <th>children</th>\n",
              "      <th>smoker</th>\n",
              "      <th>expenses</th>\n",
              "    </tr>\n",
              "  </thead>\n",
              "  <tbody>\n",
              "    <tr>\n",
              "      <th>age</th>\n",
              "      <td>1.000000</td>\n",
              "      <td>-0.020856</td>\n",
              "      <td>0.109341</td>\n",
              "      <td>0.042469</td>\n",
              "      <td>-0.025019</td>\n",
              "      <td>0.299008</td>\n",
              "    </tr>\n",
              "    <tr>\n",
              "      <th>sex</th>\n",
              "      <td>-0.020856</td>\n",
              "      <td>1.000000</td>\n",
              "      <td>0.046380</td>\n",
              "      <td>0.017163</td>\n",
              "      <td>0.076185</td>\n",
              "      <td>0.057292</td>\n",
              "    </tr>\n",
              "    <tr>\n",
              "      <th>bmi</th>\n",
              "      <td>0.109341</td>\n",
              "      <td>0.046380</td>\n",
              "      <td>1.000000</td>\n",
              "      <td>0.012645</td>\n",
              "      <td>0.003968</td>\n",
              "      <td>0.198576</td>\n",
              "    </tr>\n",
              "    <tr>\n",
              "      <th>children</th>\n",
              "      <td>0.042469</td>\n",
              "      <td>0.017163</td>\n",
              "      <td>0.012645</td>\n",
              "      <td>1.000000</td>\n",
              "      <td>0.007673</td>\n",
              "      <td>0.067998</td>\n",
              "    </tr>\n",
              "    <tr>\n",
              "      <th>smoker</th>\n",
              "      <td>-0.025019</td>\n",
              "      <td>0.076185</td>\n",
              "      <td>0.003968</td>\n",
              "      <td>0.007673</td>\n",
              "      <td>1.000000</td>\n",
              "      <td>0.787251</td>\n",
              "    </tr>\n",
              "    <tr>\n",
              "      <th>expenses</th>\n",
              "      <td>0.299008</td>\n",
              "      <td>0.057292</td>\n",
              "      <td>0.198576</td>\n",
              "      <td>0.067998</td>\n",
              "      <td>0.787251</td>\n",
              "      <td>1.000000</td>\n",
              "    </tr>\n",
              "  </tbody>\n",
              "</table>\n",
              "</div>\n",
              "      <button class=\"colab-df-convert\" onclick=\"convertToInteractive('df-9fca2fd2-f491-4b28-82e3-361ec8a52347')\"\n",
              "              title=\"Convert this dataframe to an interactive table.\"\n",
              "              style=\"display:none;\">\n",
              "        \n",
              "  <svg xmlns=\"http://www.w3.org/2000/svg\" height=\"24px\"viewBox=\"0 0 24 24\"\n",
              "       width=\"24px\">\n",
              "    <path d=\"M0 0h24v24H0V0z\" fill=\"none\"/>\n",
              "    <path d=\"M18.56 5.44l.94 2.06.94-2.06 2.06-.94-2.06-.94-.94-2.06-.94 2.06-2.06.94zm-11 1L8.5 8.5l.94-2.06 2.06-.94-2.06-.94L8.5 2.5l-.94 2.06-2.06.94zm10 10l.94 2.06.94-2.06 2.06-.94-2.06-.94-.94-2.06-.94 2.06-2.06.94z\"/><path d=\"M17.41 7.96l-1.37-1.37c-.4-.4-.92-.59-1.43-.59-.52 0-1.04.2-1.43.59L10.3 9.45l-7.72 7.72c-.78.78-.78 2.05 0 2.83L4 21.41c.39.39.9.59 1.41.59.51 0 1.02-.2 1.41-.59l7.78-7.78 2.81-2.81c.8-.78.8-2.07 0-2.86zM5.41 20L4 18.59l7.72-7.72 1.47 1.35L5.41 20z\"/>\n",
              "  </svg>\n",
              "      </button>\n",
              "      \n",
              "  <style>\n",
              "    .colab-df-container {\n",
              "      display:flex;\n",
              "      flex-wrap:wrap;\n",
              "      gap: 12px;\n",
              "    }\n",
              "\n",
              "    .colab-df-convert {\n",
              "      background-color: #E8F0FE;\n",
              "      border: none;\n",
              "      border-radius: 50%;\n",
              "      cursor: pointer;\n",
              "      display: none;\n",
              "      fill: #1967D2;\n",
              "      height: 32px;\n",
              "      padding: 0 0 0 0;\n",
              "      width: 32px;\n",
              "    }\n",
              "\n",
              "    .colab-df-convert:hover {\n",
              "      background-color: #E2EBFA;\n",
              "      box-shadow: 0px 1px 2px rgba(60, 64, 67, 0.3), 0px 1px 3px 1px rgba(60, 64, 67, 0.15);\n",
              "      fill: #174EA6;\n",
              "    }\n",
              "\n",
              "    [theme=dark] .colab-df-convert {\n",
              "      background-color: #3B4455;\n",
              "      fill: #D2E3FC;\n",
              "    }\n",
              "\n",
              "    [theme=dark] .colab-df-convert:hover {\n",
              "      background-color: #434B5C;\n",
              "      box-shadow: 0px 1px 3px 1px rgba(0, 0, 0, 0.15);\n",
              "      filter: drop-shadow(0px 1px 2px rgba(0, 0, 0, 0.3));\n",
              "      fill: #FFFFFF;\n",
              "    }\n",
              "  </style>\n",
              "\n",
              "      <script>\n",
              "        const buttonEl =\n",
              "          document.querySelector('#df-9fca2fd2-f491-4b28-82e3-361ec8a52347 button.colab-df-convert');\n",
              "        buttonEl.style.display =\n",
              "          google.colab.kernel.accessAllowed ? 'block' : 'none';\n",
              "\n",
              "        async function convertToInteractive(key) {\n",
              "          const element = document.querySelector('#df-9fca2fd2-f491-4b28-82e3-361ec8a52347');\n",
              "          const dataTable =\n",
              "            await google.colab.kernel.invokeFunction('convertToInteractive',\n",
              "                                                     [key], {});\n",
              "          if (!dataTable) return;\n",
              "\n",
              "          const docLinkHtml = 'Like what you see? Visit the ' +\n",
              "            '<a target=\"_blank\" href=https://colab.research.google.com/notebooks/data_table.ipynb>data table notebook</a>'\n",
              "            + ' to learn more about interactive tables.';\n",
              "          element.innerHTML = '';\n",
              "          dataTable['output_type'] = 'display_data';\n",
              "          await google.colab.output.renderOutput(dataTable, element);\n",
              "          const docLink = document.createElement('div');\n",
              "          docLink.innerHTML = docLinkHtml;\n",
              "          element.appendChild(docLink);\n",
              "        }\n",
              "      </script>\n",
              "    </div>\n",
              "  </div>\n",
              "  "
            ]
          },
          "metadata": {},
          "execution_count": 338
        }
      ]
    },
    {
      "cell_type": "code",
      "source": [
        "# checking multi-collinearity, if correlation between independent feature is highly positivly or  highly negatively correlated  we can remove one of the feature \n",
        " # and also checking collinearty between dependent and independent feature\n",
        "\n",
        "\n",
        " # we also the that relation between sex and age is almost 0 and also between sex and expense "
      ],
      "metadata": {
        "id": "ed034Ur1-1jN"
      },
      "execution_count": 339,
      "outputs": []
    },
    {
      "cell_type": "code",
      "source": [
        "#among all feature, smoker is comparitively highly correlated with the target ie expense\n",
        "plt.scatter(dataset['smoker'],dataset['expenses']) \n",
        "plt.xlabel('smoker')\n",
        "plt.ylabel('expenses')"
      ],
      "metadata": {
        "colab": {
          "base_uri": "https://localhost:8080/",
          "height": 466
        },
        "id": "LRkfOMe3_88M",
        "outputId": "38ec7702-a1b9-4d9f-b19a-574ae4a9d481"
      },
      "execution_count": 340,
      "outputs": [
        {
          "output_type": "execute_result",
          "data": {
            "text/plain": [
              "Text(0, 0.5, 'expenses')"
            ]
          },
          "metadata": {},
          "execution_count": 340
        },
        {
          "output_type": "display_data",
          "data": {
            "text/plain": [
              "<Figure size 640x480 with 1 Axes>"
            ],
            "image/png": "[encoded data removed]"
          },
          "metadata": {}
        }
      ]
    },
    {
      "cell_type": "code",
      "source": [
        "plt.scatter(dataset['bmi'],dataset['age'])\n",
        "plt.xlabel('bmi')\n",
        "plt.ylabel('age')"
      ],
      "metadata": {
        "colab": {
          "base_uri": "https://localhost:8080/",
          "height": 466
        },
        "id": "dZ3x64cVEF8M",
        "outputId": "c3380977-9896-4df8-d91a-e061d04b7f7d"
      },
      "execution_count": 341,
      "outputs": [
        {
          "output_type": "execute_result",
          "data": {
            "text/plain": [
              "Text(0, 0.5, 'age')"
            ]
          },
          "metadata": {},
          "execution_count": 341
        },
        {
          "output_type": "display_data",
          "data": {
            "text/plain": [
              "<Figure size 640x480 with 1 Axes>"
            ],
            "image/png": "[encoded data removed]"
          },
          "metadata": {}
        }
      ]
    },
    {
      "cell_type": "code",
      "source": [
        "# regression plot  , bmi and smoker is having almost 0 correations, so features that are hardly correlated reduces error of model\n",
        "import seaborn as sns\n",
        "sns.regplot(x='bmi',y='smoker',data=dataset)"
      ],
      "metadata": {
        "colab": {
          "base_uri": "https://localhost:8080/",
          "height": 466
        },
        "id": "sXV61-35FrUR",
        "outputId": "17462b08-365f-463a-aa78-64312f4e94ae"
      },
      "execution_count": 342,
      "outputs": [
        {
          "output_type": "execute_result",
          "data": {
            "text/plain": [
              "<Axes: xlabel='bmi', ylabel='smoker'>"
            ]
          },
          "metadata": {},
          "execution_count": 342
        },
        {
          "output_type": "display_data",
          "data": {
            "text/plain": [
              "<Figure size 640x480 with 1 Axes>"
            ],
            "image/png": "[encoded data removed]"
          },
          "metadata": {}
        }
      ]
    },
    {
      "cell_type": "code",
      "source": [
        "sns.regplot(x='age',y='expenses',data=dataset)    # some amount of negative corr is there\n",
        "# as age increases expenses incrases"
      ],
      "metadata": {
        "colab": {
          "base_uri": "https://localhost:8080/",
          "height": 466
        },
        "id": "B0XNcJmYGzB1",
        "outputId": "2917c223-5918-4dae-e3d9-136b5dde8ee7"
      },
      "execution_count": 343,
      "outputs": [
        {
          "output_type": "execute_result",
          "data": {
            "text/plain": [
              "<Axes: xlabel='age', ylabel='expenses'>"
            ]
          },
          "metadata": {},
          "execution_count": 343
        },
        {
          "output_type": "display_data",
          "data": {
            "text/plain": [
              "<Figure size 640x480 with 1 Axes>"
            ],
            "image/png": "[encoded data removed]"
          },
          "metadata": {}
        }
      ]
    },
    {
      "cell_type": "code",
      "source": [
        "sns.regplot(x='smoker',y='expenses',data=dataset)"
      ],
      "metadata": {
        "colab": {
          "base_uri": "https://localhost:8080/",
          "height": 466
        },
        "id": "Dgi0guFJQO8Y",
        "outputId": "9e810f14-9919-400c-fcda-2e6838d867d3"
      },
      "execution_count": 344,
      "outputs": [
        {
          "output_type": "execute_result",
          "data": {
            "text/plain": [
              "<Axes: xlabel='smoker', ylabel='expenses'>"
            ]
          },
          "metadata": {},
          "execution_count": 344
        },
        {
          "output_type": "display_data",
          "data": {
            "text/plain": [
              "<Figure size 640x480 with 1 Axes>"
            ],
            "image/png": "[encoded data removed]"
          },
          "metadata": {}
        }
      ]
    },
    {
      "cell_type": "code",
      "source": [
        "encoded_data.corr()"
      ],
      "metadata": {
        "colab": {
          "base_uri": "https://localhost:8080/",
          "height": 427
        },
        "id": "Zef_2wCyQsj3",
        "outputId": "e870d5b7-75d2-418b-ba3d-433a6c9fa401"
      },
      "execution_count": 345,
      "outputs": [
        {
          "output_type": "execute_result",
          "data": {
            "text/plain": [
              "                       age       sex       bmi  children    smoker  expenses  \\\n",
              "age               1.000000 -0.020856  0.109341  0.042469 -0.025019  0.299008   \n",
              "sex              -0.020856  1.000000  0.046380  0.017163  0.076185  0.057292   \n",
              "bmi               0.109341  0.046380  1.000000  0.012645  0.003968  0.198576   \n",
              "children          0.042469  0.017163  0.012645  1.000000  0.007673  0.067998   \n",
              "smoker           -0.025019  0.076185  0.003968  0.007673  1.000000  0.787251   \n",
              "expenses          0.299008  0.057292  0.198576  0.067998  0.787251  1.000000   \n",
              "region_northeast  0.002475 -0.002425 -0.138091 -0.022808  0.002811  0.006349   \n",
              "region_northwest -0.000407 -0.011156 -0.135992  0.024806 -0.036945 -0.039905   \n",
              "region_southeast -0.011642  0.017117  0.270144 -0.023066  0.068498  0.073982   \n",
              "region_southwest  0.010016 -0.004184 -0.006398  0.021914 -0.036945 -0.043210   \n",
              "\n",
              "                  region_northeast  region_northwest  region_southeast  \\\n",
              "age                       0.002475         -0.000407         -0.011642   \n",
              "sex                      -0.002425         -0.011156          0.017117   \n",
              "bmi                      -0.138091         -0.135992          0.270144   \n",
              "children                 -0.022808          0.024806         -0.023066   \n",
              "smoker                    0.002811         -0.036945          0.068498   \n",
              "expenses                  0.006349         -0.039905          0.073982   \n",
              "region_northeast          1.000000         -0.320177         -0.345561   \n",
              "region_northwest         -0.320177          1.000000         -0.346265   \n",
              "region_southeast         -0.345561         -0.346265          1.000000   \n",
              "region_southwest         -0.320177         -0.320829         -0.346265   \n",
              "\n",
              "                  region_southwest  \n",
              "age                       0.010016  \n",
              "sex                      -0.004184  \n",
              "bmi                      -0.006398  \n",
              "children                  0.021914  \n",
              "smoker                   -0.036945  \n",
              "expenses                 -0.043210  \n",
              "region_northeast         -0.320177  \n",
              "region_northwest         -0.320829  \n",
              "region_southeast         -0.346265  \n",
              "region_southwest          1.000000  "
            ],
            "text/html": [
              "\n",
              "  <div id=\"df-27cedb7d-9e88-403b-b7d4-22e32f330feb\">\n",
              "    <div class=\"colab-df-container\">\n",
              "      <div>\n",
              "<style scoped>\n",
              "    .dataframe tbody tr th:only-of-type {\n",
              "        vertical-align: middle;\n",
              "    }\n",
              "\n",
              "    .dataframe tbody tr th {\n",
              "        vertical-align: top;\n",
              "    }\n",
              "\n",
              "    .dataframe thead th {\n",
              "        text-align: right;\n",
              "    }\n",
              "</style>\n",
              "<table border=\"1\" class=\"dataframe\">\n",
              "  <thead>\n",
              "    <tr style=\"text-align: right;\">\n",
              "      <th></th>\n",
              "      <th>age</th>\n",
              "      <th>sex</th>\n",
              "      <th>bmi</th>\n",
              "      <th>children</th>\n",
              "      <th>smoker</th>\n",
              "      <th>expenses</th>\n",
              "      <th>region_northeast</th>\n",
              "      <th>region_northwest</th>\n",
              "      <th>region_southeast</th>\n",
              "      <th>region_southwest</th>\n",
              "    </tr>\n",
              "  </thead>\n",
              "  <tbody>\n",
              "    <tr>\n",
              "      <th>age</th>\n",
              "      <td>1.000000</td>\n",
              "      <td>-0.020856</td>\n",
              "      <td>0.109341</td>\n",
              "      <td>0.042469</td>\n",
              "      <td>-0.025019</td>\n",
              "      <td>0.299008</td>\n",
              "      <td>0.002475</td>\n",
              "      <td>-0.000407</td>\n",
              "      <td>-0.011642</td>\n",
              "      <td>0.010016</td>\n",
              "    </tr>\n",
              "    <tr>\n",
              "      <th>sex</th>\n",
              "      <td>-0.020856</td>\n",
              "      <td>1.000000</td>\n",
              "      <td>0.046380</td>\n",
              "      <td>0.017163</td>\n",
              "      <td>0.076185</td>\n",
              "      <td>0.057292</td>\n",
              "      <td>-0.002425</td>\n",
              "      <td>-0.011156</td>\n",
              "      <td>0.017117</td>\n",
              "      <td>-0.004184</td>\n",
              "    </tr>\n",
              "    <tr>\n",
              "      <th>bmi</th>\n",
              "      <td>0.109341</td>\n",
              "      <td>0.046380</td>\n",
              "      <td>1.000000</td>\n",
              "      <td>0.012645</td>\n",
              "      <td>0.003968</td>\n",
              "      <td>0.198576</td>\n",
              "      <td>-0.138091</td>\n",
              "      <td>-0.135992</td>\n",
              "      <td>0.270144</td>\n",
              "      <td>-0.006398</td>\n",
              "    </tr>\n",
              "    <tr>\n",
              "      <th>children</th>\n",
              "      <td>0.042469</td>\n",
              "      <td>0.017163</td>\n",
              "      <td>0.012645</td>\n",
              "      <td>1.000000</td>\n",
              "      <td>0.007673</td>\n",
              "      <td>0.067998</td>\n",
              "      <td>-0.022808</td>\n",
              "      <td>0.024806</td>\n",
              "      <td>-0.023066</td>\n",
              "      <td>0.021914</td>\n",
              "    </tr>\n",
              "    <tr>\n",
              "      <th>smoker</th>\n",
              "      <td>-0.025019</td>\n",
              "      <td>0.076185</td>\n",
              "      <td>0.003968</td>\n",
              "      <td>0.007673</td>\n",
              "      <td>1.000000</td>\n",
              "      <td>0.787251</td>\n",
              "      <td>0.002811</td>\n",
              "      <td>-0.036945</td>\n",
              "      <td>0.068498</td>\n",
              "      <td>-0.036945</td>\n",
              "    </tr>\n",
              "    <tr>\n",
              "      <th>expenses</th>\n",
              "      <td>0.299008</td>\n",
              "      <td>0.057292</td>\n",
              "      <td>0.198576</td>\n",
              "      <td>0.067998</td>\n",
              "      <td>0.787251</td>\n",
              "      <td>1.000000</td>\n",
              "      <td>0.006349</td>\n",
              "      <td>-0.039905</td>\n",
              "      <td>0.073982</td>\n",
              "      <td>-0.043210</td>\n",
              "    </tr>\n",
              "    <tr>\n",
              "      <th>region_northeast</th>\n",
              "      <td>0.002475</td>\n",
              "      <td>-0.002425</td>\n",
              "      <td>-0.138091</td>\n",
              "      <td>-0.022808</td>\n",
              "      <td>0.002811</td>\n",
              "      <td>0.006349</td>\n",
              "      <td>1.000000</td>\n",
              "      <td>-0.320177</td>\n",
              "      <td>-0.345561</td>\n",
              "      <td>-0.320177</td>\n",
              "    </tr>\n",
              "    <tr>\n",
              "      <th>region_northwest</th>\n",
              "      <td>-0.000407</td>\n",
              "      <td>-0.011156</td>\n",
              "      <td>-0.135992</td>\n",
              "      <td>0.024806</td>\n",
              "      <td>-0.036945</td>\n",
              "      <td>-0.039905</td>\n",
              "      <td>-0.320177</td>\n",
              "      <td>1.000000</td>\n",
              "      <td>-0.346265</td>\n",
              "      <td>-0.320829</td>\n",
              "    </tr>\n",
              "    <tr>\n",
              "      <th>region_southeast</th>\n",
              "      <td>-0.011642</td>\n",
              "      <td>0.017117</td>\n",
              "      <td>0.270144</td>\n",
              "      <td>-0.023066</td>\n",
              "      <td>0.068498</td>\n",
              "      <td>0.073982</td>\n",
              "      <td>-0.345561</td>\n",
              "      <td>-0.346265</td>\n",
              "      <td>1.000000</td>\n",
              "      <td>-0.346265</td>\n",
              "    </tr>\n",
              "    <tr>\n",
              "      <th>region_southwest</th>\n",
              "      <td>0.010016</td>\n",
              "      <td>-0.004184</td>\n",
              "      <td>-0.006398</td>\n",
              "      <td>0.021914</td>\n",
              "      <td>-0.036945</td>\n",
              "      <td>-0.043210</td>\n",
              "      <td>-0.320177</td>\n",
              "      <td>-0.320829</td>\n",
              "      <td>-0.346265</td>\n",
              "      <td>1.000000</td>\n",
              "    </tr>\n",
              "  </tbody>\n",
              "</table>\n",
              "</div>\n",
              "      <button class=\"colab-df-convert\" onclick=\"convertToInteractive('df-27cedb7d-9e88-403b-b7d4-22e32f330feb')\"\n",
              "              title=\"Convert this dataframe to an interactive table.\"\n",
              "              style=\"display:none;\">\n",
              "        \n",
              "  <svg xmlns=\"http://www.w3.org/2000/svg\" height=\"24px\"viewBox=\"0 0 24 24\"\n",
              "       width=\"24px\">\n",
              "    <path d=\"M0 0h24v24H0V0z\" fill=\"none\"/>\n",
              "    <path d=\"M18.56 5.44l.94 2.06.94-2.06 2.06-.94-2.06-.94-.94-2.06-.94 2.06-2.06.94zm-11 1L8.5 8.5l.94-2.06 2.06-.94-2.06-.94L8.5 2.5l-.94 2.06-2.06.94zm10 10l.94 2.06.94-2.06 2.06-.94-2.06-.94-.94-2.06-.94 2.06-2.06.94z\"/><path d=\"M17.41 7.96l-1.37-1.37c-.4-.4-.92-.59-1.43-.59-.52 0-1.04.2-1.43.59L10.3 9.45l-7.72 7.72c-.78.78-.78 2.05 0 2.83L4 21.41c.39.39.9.59 1.41.59.51 0 1.02-.2 1.41-.59l7.78-7.78 2.81-2.81c.8-.78.8-2.07 0-2.86zM5.41 20L4 18.59l7.72-7.72 1.47 1.35L5.41 20z\"/>\n",
              "  </svg>\n",
              "      </button>\n",
              "      \n",
              "  <style>\n",
              "    .colab-df-container {\n",
              "      display:flex;\n",
              "      flex-wrap:wrap;\n",
              "      gap: 12px;\n",
              "    }\n",
              "\n",
              "    .colab-df-convert {\n",
              "      background-color: #E8F0FE;\n",
              "      border: none;\n",
              "      border-radius: 50%;\n",
              "      cursor: pointer;\n",
              "      display: none;\n",
              "      fill: #1967D2;\n",
              "      height: 32px;\n",
              "      padding: 0 0 0 0;\n",
              "      width: 32px;\n",
              "    }\n",
              "\n",
              "    .colab-df-convert:hover {\n",
              "      background-color: #E2EBFA;\n",
              "      box-shadow: 0px 1px 2px rgba(60, 64, 67, 0.3), 0px 1px 3px 1px rgba(60, 64, 67, 0.15);\n",
              "      fill: #174EA6;\n",
              "    }\n",
              "\n",
              "    [theme=dark] .colab-df-convert {\n",
              "      background-color: #3B4455;\n",
              "      fill: #D2E3FC;\n",
              "    }\n",
              "\n",
              "    [theme=dark] .colab-df-convert:hover {\n",
              "      background-color: #434B5C;\n",
              "      box-shadow: 0px 1px 3px 1px rgba(0, 0, 0, 0.15);\n",
              "      filter: drop-shadow(0px 1px 2px rgba(0, 0, 0, 0.3));\n",
              "      fill: #FFFFFF;\n",
              "    }\n",
              "  </style>\n",
              "\n",
              "      <script>\n",
              "        const buttonEl =\n",
              "          document.querySelector('#df-27cedb7d-9e88-403b-b7d4-22e32f330feb button.colab-df-convert');\n",
              "        buttonEl.style.display =\n",
              "          google.colab.kernel.accessAllowed ? 'block' : 'none';\n",
              "\n",
              "        async function convertToInteractive(key) {\n",
              "          const element = document.querySelector('#df-27cedb7d-9e88-403b-b7d4-22e32f330feb');\n",
              "          const dataTable =\n",
              "            await google.colab.kernel.invokeFunction('convertToInteractive',\n",
              "                                                     [key], {});\n",
              "          if (!dataTable) return;\n",
              "\n",
              "          const docLinkHtml = 'Like what you see? Visit the ' +\n",
              "            '<a target=\"_blank\" href=https://colab.research.google.com/notebooks/data_table.ipynb>data table notebook</a>'\n",
              "            + ' to learn more about interactive tables.';\n",
              "          element.innerHTML = '';\n",
              "          dataTable['output_type'] = 'display_data';\n",
              "          await google.colab.output.renderOutput(dataTable, element);\n",
              "          const docLink = document.createElement('div');\n",
              "          docLink.innerHTML = docLinkHtml;\n",
              "          element.appendChild(docLink);\n",
              "        }\n",
              "      </script>\n",
              "    </div>\n",
              "  </div>\n",
              "  "
            ]
          },
          "metadata": {},
          "execution_count": 345
        }
      ]
    },
    {
      "cell_type": "code",
      "source": [
        "sns.regplot(x='region_northeast',y='region_northwest',data=encoded_data)   # we see negative correlation,if one is increasing the other is decreasing"
      ],
      "metadata": {
        "colab": {
          "base_uri": "https://localhost:8080/",
          "height": 467
        },
        "id": "im5wmLr9RRY1",
        "outputId": "54a66aac-507b-4c0d-c3f6-b19d0a7a435f"
      },
      "execution_count": 346,
      "outputs": [
        {
          "output_type": "execute_result",
          "data": {
            "text/plain": [
              "<Axes: xlabel='region_northeast', ylabel='region_northwest'>"
            ]
          },
          "metadata": {},
          "execution_count": 346
        },
        {
          "output_type": "display_data",
          "data": {
            "text/plain": [
              "<Figure size 640x480 with 1 Axes>"
            ],
            "image/png": "[encoded data removed]"
          },
          "metadata": {}
        }
      ]
    },
    {
      "cell_type": "code",
      "source": [],
      "metadata": {
        "id": "TQYy39dKbfro"
      },
      "execution_count": 346,
      "outputs": []
    },
    {
      "cell_type": "code",
      "source": [
        "# independent and dependent feature\n",
        "x=encoded_data.drop('expenses',axis=1)\n",
        "y=encoded_data['expenses']"
      ],
      "metadata": {
        "id": "jfmMAUAZSSFV"
      },
      "execution_count": 347,
      "outputs": []
    },
    {
      "cell_type": "code",
      "source": [
        "y.head()"
      ],
      "metadata": {
        "colab": {
          "base_uri": "https://localhost:8080/"
        },
        "id": "lRH2N7CMTAeb",
        "outputId": "25fe85c3-b7a9-4c97-9644-4ba15aaba9b8"
      },
      "execution_count": 263,
      "outputs": [
        {
          "output_type": "execute_result",
          "data": {
            "text/plain": [
              "0    16884.92\n",
              "1     1725.55\n",
              "2     4449.46\n",
              "3    21984.47\n",
              "4     3866.86\n",
              "Name: expenses, dtype: float64"
            ]
          },
          "metadata": {},
          "execution_count": 263
        }
      ]
    },
    {
      "cell_type": "code",
      "source": [
        "# train_test_split\n",
        "from sklearn.model_selection import train_test_split\n",
        "x_train,x_test,y_train,y_test=train_test_split(x,y,test_size=0.3,random_state=42)"
      ],
      "metadata": {
        "id": "E3-6dK-iTKHe"
      },
      "execution_count": 264,
      "outputs": []
    },
    {
      "cell_type": "code",
      "source": [
        "from sklearn.preprocessing import StandardScaler\n",
        "sd=StandardScaler()\n",
        "x_train=sd.fit_transform(x_train)\n",
        "x_test=scaler=sd.transform(x_test)"
      ],
      "metadata": {
        "id": "-mN4Z9--b5Nj"
      },
      "execution_count": 265,
      "outputs": []
    },
    {
      "cell_type": "code",
      "source": [
        "x_train"
      ],
      "metadata": {
        "colab": {
          "base_uri": "https://localhost:8080/"
        },
        "id": "pbI_Oi9jTNWb",
        "outputId": "796bd9a9-e8b9-44eb-a267-500ef558ad81"
      },
      "execution_count": 266,
      "outputs": [
        {
          "output_type": "execute_result",
          "data": {
            "text/plain": [
              "array([[ 1.54446486, -1.02597835,  0.10949025, ...,  1.75708174,\n",
              "        -0.59380229, -0.55760593],\n",
              "       [ 0.48187425,  0.97467943, -0.49119089, ..., -0.56912549,\n",
              "        -0.59380229,  1.79338122],\n",
              "       [ 1.04858924, -1.02597835,  0.22628936, ..., -0.56912549,\n",
              "         1.68406222, -0.55760593],\n",
              "       ...,\n",
              "       [ 1.33194673,  0.97467943, -0.89164499, ..., -0.56912549,\n",
              "        -0.59380229, -0.55760593],\n",
              "       [-0.15568012, -1.02597835,  2.84592657, ..., -0.56912549,\n",
              "        -0.59380229,  1.79338122],\n",
              "       [ 1.11942861,  0.97467943, -0.10742238, ..., -0.56912549,\n",
              "        -0.59380229,  1.79338122]])"
            ]
          },
          "metadata": {},
          "execution_count": 266
        }
      ]
    },
    {
      "cell_type": "code",
      "source": [
        "#model training\n",
        "\n",
        "from sklearn.linear_model import LinearRegression\n",
        "reg=LinearRegression()"
      ],
      "metadata": {
        "id": "UKisVv8-TRdK"
      },
      "execution_count": 267,
      "outputs": []
    },
    {
      "cell_type": "code",
      "source": [
        "reg.fit(x_train,y_train)"
      ],
      "metadata": {
        "colab": {
          "base_uri": "https://localhost:8080/",
          "height": 74
        },
        "id": "Lf1sIOYnV5uN",
        "outputId": "2ddae293-94c9-4731-dad0-ae1d61022db1"
      },
      "execution_count": 268,
      "outputs": [
        {
          "output_type": "execute_result",
          "data": {
            "text/plain": [
              "LinearRegression()"
            ],
            "text/html": [
              "<style>#sk-container-id-9 {color: black;background-color: white;}#sk-container-id-9 pre{padding: 0;}#sk-container-id-9 div.sk-toggleable {background-color: white;}#sk-container-id-9 label.sk-toggleable__label {cursor: pointer;display: block;width: 100%;margin-bottom: 0;padding: 0.3em;box-sizing: border-box;text-align: center;}#sk-container-id-9 label.sk-toggleable__label-arrow:before {content: \"▸\";float: left;margin-right: 0.25em;color: #696969;}#sk-container-id-9 label.sk-toggleable__label-arrow:hover:before {color: black;}#sk-container-id-9 div.sk-estimator:hover label.sk-toggleable__label-arrow:before {color: black;}#sk-container-id-9 div.sk-toggleable__content {max-height: 0;max-width: 0;overflow: hidden;text-align: left;background-color: #f0f8ff;}#sk-container-id-9 div.sk-toggleable__content pre {margin: 0.2em;color: black;border-radius: 0.25em;background-color: #f0f8ff;}#sk-container-id-9 input.sk-toggleable__control:checked~div.sk-toggleable__content {max-height: 200px;max-width: 100%;overflow: auto;}#sk-container-id-9 input.sk-toggleable__control:checked~label.sk-toggleable__label-arrow:before {content: \"▾\";}#sk-container-id-9 div.sk-estimator input.sk-toggleable__control:checked~label.sk-toggleable__label {background-color: #d4ebff;}#sk-container-id-9 div.sk-label input.sk-toggleable__control:checked~label.sk-toggleable__label {background-color: #d4ebff;}#sk-container-id-9 input.sk-hidden--visually {border: 0;clip: rect(1px 1px 1px 1px);clip: rect(1px, 1px, 1px, 1px);height: 1px;margin: -1px;overflow: hidden;padding: 0;position: absolute;width: 1px;}#sk-container-id-9 div.sk-estimator {font-family: monospace;background-color: #f0f8ff;border: 1px dotted black;border-radius: 0.25em;box-sizing: border-box;margin-bottom: 0.5em;}#sk-container-id-9 div.sk-estimator:hover {background-color: #d4ebff;}#sk-container-id-9 div.sk-parallel-item::after {content: \"\";width: 100%;border-bottom: 1px solid gray;flex-grow: 1;}#sk-container-id-9 div.sk-label:hover label.sk-toggleable__label {background-color: #d4ebff;}#sk-container-id-9 div.sk-serial::before {content: \"\";position: absolute;border-left: 1px solid gray;box-sizing: border-box;top: 0;bottom: 0;left: 50%;z-index: 0;}#sk-container-id-9 div.sk-serial {display: flex;flex-direction: column;align-items: center;background-color: white;padding-right: 0.2em;padding-left: 0.2em;position: relative;}#sk-container-id-9 div.sk-item {position: relative;z-index: 1;}#sk-container-id-9 div.sk-parallel {display: flex;align-items: stretch;justify-content: center;background-color: white;position: relative;}#sk-container-id-9 div.sk-item::before, #sk-container-id-9 div.sk-parallel-item::before {content: \"\";position: absolute;border-left: 1px solid gray;box-sizing: border-box;top: 0;bottom: 0;left: 50%;z-index: -1;}#sk-container-id-9 div.sk-parallel-item {display: flex;flex-direction: column;z-index: 1;position: relative;background-color: white;}#sk-container-id-9 div.sk-parallel-item:first-child::after {align-self: flex-end;width: 50%;}#sk-container-id-9 div.sk-parallel-item:last-child::after {align-self: flex-start;width: 50%;}#sk-container-id-9 div.sk-parallel-item:only-child::after {width: 0;}#sk-container-id-9 div.sk-dashed-wrapped {border: 1px dashed gray;margin: 0 0.4em 0.5em 0.4em;box-sizing: border-box;padding-bottom: 0.4em;background-color: white;}#sk-container-id-9 div.sk-label label {font-family: monospace;font-weight: bold;display: inline-block;line-height: 1.2em;}#sk-container-id-9 div.sk-label-container {text-align: center;}#sk-container-id-9 div.sk-container {/* jupyter's `normalize.less` sets `[hidden] { display: none; }` but bootstrap.min.css set `[hidden] { display: none !important; }` so we also need the `!important` here to be able to override the default hidden behavior on the sphinx rendered scikit-learn.org. See: https://github.com/scikit-learn/scikit-learn/issues/21755 */display: inline-block !important;position: relative;}#sk-container-id-9 div.sk-text-repr-fallback {display: none;}</style><div id=\"sk-container-id-9\" class=\"sk-top-container\"><div class=\"sk-text-repr-fallback\"><pre>LinearRegression()</pre><b>In a Jupyter environment, please rerun this cell to show the HTML representation or trust the notebook. <br />On GitHub, the HTML representation is unable to render, please try loading this page with nbviewer.org.</b></div><div class=\"sk-container\" hidden><div class=\"sk-item\"><div class=\"sk-estimator sk-toggleable\"><input class=\"sk-toggleable__control sk-hidden--visually\" id=\"sk-estimator-id-9\" type=\"checkbox\" checked><label for=\"sk-estimator-id-9\" class=\"sk-toggleable__label sk-toggleable__label-arrow\">LinearRegression</label><div class=\"sk-toggleable__content\"><pre>LinearRegression()</pre></div></div></div></div></div>"
            ]
          },
          "metadata": {},
          "execution_count": 268
        }
      ]
    },
    {
      "cell_type": "code",
      "source": [
        "## print coefficients and intercept\n",
        "print(reg.coef_)"
      ],
      "metadata": {
        "colab": {
          "base_uri": "https://localhost:8080/"
        },
        "id": "xd-pM4J_V9Pp",
        "outputId": "6cf7ae9a-5a06-485d-d92e-41ac0cad44ea"
      },
      "execution_count": 269,
      "outputs": [
        {
          "output_type": "stream",
          "name": "stdout",
          "text": [
            "[ 3.68632446e+03  1.16719187e+01  2.10428217e+03  4.98635728e+02\n",
            "  9.54752032e+03 -1.96406010e+17 -1.93099566e+17 -1.97197684e+17\n",
            " -1.91064254e+17]\n"
          ]
        }
      ]
    },
    {
      "cell_type": "code",
      "source": [
        "reg.intercept_"
      ],
      "metadata": {
        "colab": {
          "base_uri": "https://localhost:8080/"
        },
        "id": "h8Phslf_WHNA",
        "outputId": "ee629fa6-5206-4a55-f9ad-75943b5f3c83"
      },
      "execution_count": 270,
      "outputs": [
        {
          "output_type": "execute_result",
          "data": {
            "text/plain": [
              "13382.109502246227"
            ]
          },
          "metadata": {},
          "execution_count": 270
        }
      ]
    },
    {
      "cell_type": "code",
      "source": [
        "##prediction with test data\n",
        "reg_pred=reg.predict(x_test)"
      ],
      "metadata": {
        "id": "oGuJExKnWbRT"
      },
      "execution_count": 271,
      "outputs": []
    },
    {
      "cell_type": "code",
      "source": [
        "reg_pred.shape"
      ],
      "metadata": {
        "colab": {
          "base_uri": "https://localhost:8080/"
        },
        "id": "gp67A4xFL5dQ",
        "outputId": "f51ff3d8-8e3f-46a5-924b-b1810b309d87"
      },
      "execution_count": 272,
      "outputs": [
        {
          "output_type": "execute_result",
          "data": {
            "text/plain": [
              "(402,)"
            ]
          },
          "metadata": {},
          "execution_count": 272
        }
      ]
    },
    {
      "cell_type": "code",
      "source": [
        "reg_pred"
      ],
      "metadata": {
        "colab": {
          "base_uri": "https://localhost:8080/"
        },
        "id": "21FsMNx_W_oM",
        "outputId": "aa435b10-d60a-49bc-f301-71745821a4d0"
      },
      "execution_count": 273,
      "outputs": [
        {
          "output_type": "execute_result",
          "data": {
            "text/plain": [
              "array([ 9.19010950e+03,  7.39810950e+03,  3.71741095e+04,  9.75010950e+03,\n",
              "        2.71901095e+04,  1.08861095e+04,  3.26109502e+02,  1.74941095e+04,\n",
              "        1.14210950e+03,  1.15901095e+04,  2.76541095e+04,  9.75010950e+03,\n",
              "        4.88610950e+03,  3.81981095e+04,  4.00861095e+04,  3.68061095e+04,\n",
              "        1.51261095e+04,  3.55741095e+04,  8.80610950e+03,  3.16861095e+04,\n",
              "        3.52610950e+03,  1.00541095e+04,  2.18210950e+03,  7.47810950e+03,\n",
              "        1.16221095e+04,  1.33501095e+04,  1.45341095e+04,  6.42210950e+03,\n",
              "        1.01981095e+04,  1.79810950e+03,  8.90210950e+03,  1.35101095e+04,\n",
              "        4.24610950e+03,  3.54210950e+03,  4.29410950e+03,  1.35101095e+04,\n",
              "        1.67010950e+03,  8.64610950e+03,  3.34621095e+04,  3.22301095e+04,\n",
              "        3.59010950e+03,  4.66210950e+03,  1.41501095e+04,  1.18461095e+04,\n",
              "        8.55010950e+03,  1.20381095e+04,  5.55810950e+03,  2.82210950e+03,\n",
              "        3.51581095e+04,  8.93410950e+03,  1.57181095e+04,  1.97410950e+03,\n",
              "        1.28541095e+04,  1.65410950e+03,  1.32381095e+04,  1.29341095e+04,\n",
              "        4.56610950e+03,  3.24381095e+04,  1.32541095e+04,  1.32861095e+04,\n",
              "        1.41501095e+04,  1.03101095e+04,  1.63901095e+04,  8.02210950e+03,\n",
              "        1.21821095e+04,  4.27810950e+03,  2.61821095e+04,  1.06141095e+04,\n",
              "        2.29410950e+03,  6.15010950e+03,  1.11421095e+04,  1.19421095e+04,\n",
              "        1.07421095e+04,  8.88610950e+03,  1.18141095e+04,  6.40610950e+03,\n",
              "        7.51010950e+03,  1.11101095e+04,  6.23010950e+03,  8.51810950e+03,\n",
              "        3.44610950e+03,  3.68701095e+04,  6.15010950e+03,  3.09981095e+04,\n",
              "        3.46781095e+04,  3.55261095e+04,  6.69410950e+03,  1.33661095e+04,\n",
              "        1.02941095e+04,  1.44701095e+04,  1.81501095e+04,  3.48221095e+04,\n",
              "        3.31261095e+04,  6.39010950e+03,  3.16541095e+04,  9.35010950e+03,\n",
              "        2.89661095e+04,  3.31810950e+03,  2.84061095e+04,  5.97410950e+03,\n",
              "        5.67010950e+03,  1.60610950e+03,  1.13981095e+04,  1.50461095e+04,\n",
              "        1.20381095e+04,  4.00610950e+03,  9.62210950e+03,  3.12381095e+04,\n",
              "        3.81095022e+01,  3.23261095e+04,  3.14210950e+03,  1.00701095e+04,\n",
              "        1.46941095e+04,  3.17661095e+04,  1.17821095e+04,  3.78210950e+03,\n",
              "        1.34941095e+04,  3.14301095e+04,  7.81410950e+03,  3.52610950e+03,\n",
              "        8.74210950e+03,  1.10141095e+04,  1.56541095e+04,  5.41410950e+03,\n",
              "        3.94210950e+03,  1.06141095e+04,  1.06461095e+04,  1.14621095e+04,\n",
              "        1.42781095e+04,  7.25410950e+03,  5.01410950e+03,  8.95010950e+03,\n",
              "        9.07810950e+03,  1.29661095e+04,  8.19810950e+03,  1.53661095e+04,\n",
              "        8.75810950e+03,  3.14941095e+04,  3.61981095e+04,  3.17501095e+04,\n",
              "        6.31010950e+03,  1.29821095e+04,  5.75010950e+03,  1.50301095e+04,\n",
              "        2.08610950e+03,  3.26461095e+04,  6.58210950e+03,  4.80610950e+03,\n",
              "        1.47901095e+04,  6.79010950e+03,  3.90461095e+04,  3.33410950e+03,\n",
              "        5.67010950e+03,  3.18781095e+04,  1.20541095e+04,  8.85410950e+03,\n",
              "        1.52541095e+04,  9.52610950e+03,  2.66141095e+04,  3.36861095e+04,\n",
              "        1.49021095e+04,  1.86210950e+03,  1.30621095e+04,  2.39010950e+03,\n",
              "        5.25410950e+03,  1.13821095e+04,  3.96861095e+04,  3.68541095e+04,\n",
              "        3.42301095e+04,  3.65410950e+03,  7.17410950e+03,  8.51810950e+03,\n",
              "        1.29661095e+04,  5.07810950e+03,  1.79810950e+03,  3.16541095e+04,\n",
              "        2.47101095e+04,  1.74621095e+04,  2.64381095e+04,  1.04861095e+04,\n",
              "        3.74621095e+04, -4.41890498e+02,  7.04610950e+03,  7.62210950e+03,\n",
              "        4.48610950e+03,  5.41410950e+03,  6.16610950e+03,  4.10210950e+03,\n",
              "        1.51101095e+04,  1.15421095e+04,  6.79010950e+03,  2.71010950e+03,\n",
              "        1.65410950e+03,  3.16861095e+04,  1.63581095e+04,  1.17981095e+04,\n",
              "        1.43010950e+03,  1.28381095e+04,  1.70210950e+03,  8.58210950e+03,\n",
              "        2.03810950e+03,  3.42301095e+04,  1.07101095e+04,  2.85410950e+03,\n",
              "        2.50781095e+04,  2.57981095e+04,  9.81410950e+03,  1.91010950e+03,\n",
              "        1.31901095e+04,  7.74109502e+02,  1.02461095e+04,  1.02301095e+04,\n",
              "        1.74781095e+04,  2.63581095e+04,  6.58210950e+03,  5.39810950e+03,\n",
              "        5.47810950e+03,  1.29181095e+04,  1.07901095e+04,  8.07010950e+03,\n",
              "        5.47810950e+03,  1.28381095e+04,  1.37661095e+04,  3.54781095e+04,\n",
              "        4.50210950e+03,  2.85021095e+04, -1.27389050e+03,  3.19010950e+03,\n",
              "        1.08061095e+04,  1.55261095e+04,  4.98210950e+03,  7.12610950e+03,\n",
              "        3.52610950e+03,  3.10461095e+04,  7.46210950e+03,  1.22941095e+04,\n",
              "        5.94210950e+03,  9.47810950e+03,  3.60061095e+04,  4.15010950e+03,\n",
              "        9.86210950e+03,  3.08541095e+04,  6.10210950e+03,  4.21410950e+03,\n",
              "        1.28610950e+03,  5.19010950e+03,  4.29410950e+03,  6.34210950e+03,\n",
              "        1.85821095e+04, -1.41789050e+03,  2.11810950e+03,  1.06301095e+04,\n",
              "        2.88610950e+03,  1.04381095e+04,  3.99010950e+03,  4.75810950e+03,\n",
              "        1.23581095e+04,  6.58210950e+03,  8.48610950e+03,  7.79810950e+03,\n",
              "        9.22210950e+03,  1.07901095e+04,  2.73661095e+04,  3.88381095e+04,\n",
              "        1.21501095e+04,  7.95810950e+03,  4.07741095e+04,  1.22301095e+04,\n",
              "        7.31810950e+03,  8.56610950e+03,  8.83810950e+03,  1.08061095e+04,\n",
              "        1.03421095e+04,  1.75581095e+04,  7.74109502e+02,  2.35901095e+04,\n",
              "        1.31101095e+04,  3.33821095e+04,  5.35010950e+03,  1.30301095e+04,\n",
              "        1.07581095e+04,  1.82781095e+04,  9.67010950e+03,  1.18461095e+04,\n",
              "        3.20061095e+04,  3.51010950e+03,  1.34781095e+04,  3.91421095e+04,\n",
              "        5.71810950e+03,  6.50210950e+03,  3.67010950e+03,  1.12701095e+04,\n",
              "        2.54781095e+04,  1.44701095e+04,  8.87010950e+03,  1.03101095e+04,\n",
              "        1.33181095e+04,  6.46109502e+02,  2.11810950e+03,  3.04381095e+04,\n",
              "        2.97021095e+04,  1.34781095e+04,  3.99010950e+03,  2.55421095e+04,\n",
              "        1.31901095e+04,  3.03581095e+04,  3.73410950e+03,  3.86781095e+04,\n",
              "        1.10141095e+04,  4.66210950e+03,  6.59810950e+03,  2.18210950e+03,\n",
              "        2.60221095e+04,  1.43421095e+04,  2.62109502e+02,  1.26781095e+04,\n",
              "        1.24861095e+04,  1.54141095e+04,  3.46941095e+04,  1.47741095e+04,\n",
              "        3.11581095e+04,  9.92610950e+03,  1.81821095e+04,  5.83010950e+03,\n",
              "        8.66210950e+03,  9.15810950e+03,  1.50621095e+04,  8.83810950e+03,\n",
              "        8.79010950e+03,  1.50461095e+04,  1.31261095e+04,  1.51901095e+04,\n",
              "        7.36610950e+03,  2.56541095e+04,  9.04610950e+03,  2.07010950e+03,\n",
              "        3.95810950e+03,  1.42141095e+04,  3.54141095e+04,  9.47810950e+03,\n",
              "        1.31101095e+04,  5.52610950e+03,  5.23810950e+03,  3.71810950e+03,\n",
              "        3.03010950e+03,  9.31810950e+03,  6.80610950e+03,  2.24610950e+03,\n",
              "        1.30621095e+04,  9.19010950e+03,  5.70210950e+03,  5.18109502e+02,\n",
              "        9.28610950e+03,  4.72610950e+03,  3.33501095e+04,  2.81661095e+04,\n",
              "        3.67261095e+04,  5.57410950e+03,  8.29410950e+03,  8.10210950e+03,\n",
              "        3.39810950e+03,  3.17981095e+04,  7.30210950e+03,  2.78621095e+04,\n",
              "        3.64221095e+04,  6.82210950e+03,  1.28701095e+04,  1.02621095e+04,\n",
              "        8.59810950e+03,  1.30781095e+04,  3.02781095e+04,  1.71581095e+04,\n",
              "        1.23741095e+04,  4.18210950e+03, -1.46589050e+03,  1.25021095e+04,\n",
              "        3.05341095e+04,  1.27901095e+04,  1.11421095e+04,  8.35810950e+03,\n",
              "        3.78210950e+03,  6.91810950e+03,  7.04610950e+03,  1.05661095e+04,\n",
              "        3.38781095e+04,  3.89821095e+04,  1.18461095e+04,  8.64610950e+03,\n",
              "        1.68861095e+04,  1.61021095e+04,  9.47810950e+03,  9.28610950e+03,\n",
              "        9.22210950e+03,  2.50210950e+03,  9.99010950e+03,  3.60610950e+03,\n",
              "        1.05021095e+04,  1.65181095e+04,  6.35810950e+03,  2.35810950e+03,\n",
              "        1.43901095e+04, -1.21890498e+02])"
            ]
          },
          "metadata": {},
          "execution_count": 273
        }
      ]
    },
    {
      "cell_type": "code",
      "source": [
        "#plot scatter plot for prediction\n",
        "plt.scatter(y_test,reg_pred)\n"
      ],
      "metadata": {
        "colab": {
          "base_uri": "https://localhost:8080/",
          "height": 447
        },
        "id": "SAgNu_j_XFAh",
        "outputId": "cca70d42-9c77-4e92-d0f4-9ed3ff843384"
      },
      "execution_count": 274,
      "outputs": [
        {
          "output_type": "execute_result",
          "data": {
            "text/plain": [
              "<matplotlib.collections.PathCollection at 0x7f0cfb2a0b80>"
            ]
          },
          "metadata": {},
          "execution_count": 274
        },
        {
          "output_type": "display_data",
          "data": {
            "text/plain": [
              "<Figure size 640x480 with 1 Axes>"
            ],
            "image/png": "[encoded data removed]"
          },
          "metadata": {}
        }
      ]
    },
    {
      "cell_type": "code",
      "source": [
        "# from the above plot we see that its almost linear so our reg_pred is almmost correct wrt to y_test"
      ],
      "metadata": {
        "id": "ku1LjmibXO-_"
      },
      "execution_count": 275,
      "outputs": []
    },
    {
      "cell_type": "code",
      "source": [
        "#now we calculate residual/ error\n",
        "error=y_test-reg_pred"
      ],
      "metadata": {
        "id": "kr-O9bhyXkks"
      },
      "execution_count": 276,
      "outputs": []
    },
    {
      "cell_type": "code",
      "source": [
        "#plotting errors\n",
        "sns.displot(error,kind='kde')"
      ],
      "metadata": {
        "colab": {
          "base_uri": "https://localhost:8080/",
          "height": 523
        },
        "id": "SJjVBWzuX23u",
        "outputId": "e940526b-c667-4387-9d25-c0448b783961"
      },
      "execution_count": 277,
      "outputs": [
        {
          "output_type": "execute_result",
          "data": {
            "text/plain": [
              "<seaborn.axisgrid.FacetGrid at 0x7f0cfb32fca0>"
            ]
          },
          "metadata": {},
          "execution_count": 277
        },
        {
          "output_type": "display_data",
          "data": {
            "text/plain": [
              "<Figure size 500x500 with 1 Axes>"
            ],
            "image/png": "[encoded data removed]"
          },
          "metadata": {}
        }
      ]
    },
    {
      "cell_type": "code",
      "source": [
        "# in above graph we see that on right hand side there are some kind of outliers and errors\n",
        "\n",
        "# there max differnece btw -10k to 10k and some points btw 20k to 30k\n",
        "#if we get normal distribution of our errors then our model is working right "
      ],
      "metadata": {
        "id": "JMlHOmTIYCsa"
      },
      "execution_count": 278,
      "outputs": []
    },
    {
      "cell_type": "code",
      "source": [
        "# scatter with respect to predictions and error\n",
        "plt.scatter(reg_pred,error)"
      ],
      "metadata": {
        "colab": {
          "base_uri": "https://localhost:8080/",
          "height": 447
        },
        "id": "aCgZVFF-ZYBi",
        "outputId": "b905b3d8-21aa-4788-8297-7d6c4880679e"
      },
      "execution_count": 279,
      "outputs": [
        {
          "output_type": "execute_result",
          "data": {
            "text/plain": [
              "<matplotlib.collections.PathCollection at 0x7f0cfb32dcc0>"
            ]
          },
          "metadata": {},
          "execution_count": 279
        },
        {
          "output_type": "display_data",
          "data": {
            "text/plain": [
              "<Figure size 640x480 with 1 Axes>"
            ],
            "image/png": "[encoded data removed]"
          },
          "metadata": {}
        }
      ]
    },
    {
      "cell_type": "code",
      "source": [
        "# in above grpah we see that there is almost uniform distribution of points so its somehow better model"
      ],
      "metadata": {
        "id": "qmTdz6x6Zg3A"
      },
      "execution_count": 280,
      "outputs": []
    },
    {
      "cell_type": "code",
      "source": [
        "#performance metrics\n",
        "from sklearn.metrics import mean_squared_error\n",
        "from sklearn.metrics import mean_absolute_error\n",
        "\n",
        "print(mean_absolute_error(y_test,reg_pred))\n",
        "print(mean_squared_error(y_test,reg_pred))\n",
        "print(np.sqrt(mean_squared_error(y_test,reg_pred)))"
      ],
      "metadata": {
        "colab": {
          "base_uri": "https://localhost:8080/"
        },
        "id": "jYM7kypdaNpn",
        "outputId": "3fa79e49-83f3-4f62-c7dd-64278b98fe31"
      },
      "execution_count": 281,
      "outputs": [
        {
          "output_type": "stream",
          "name": "stdout",
          "text": [
            "4143.370517994049\n",
            "33723174.20039474\n",
            "5807.165763123586\n"
          ]
        }
      ]
    },
    {
      "cell_type": "code",
      "source": [
        "from sklearn.metrics import r2_score\n",
        "print(r2_score(y_test,reg_pred))"
      ],
      "metadata": {
        "colab": {
          "base_uri": "https://localhost:8080/"
        },
        "id": "imxveeAoazDJ",
        "outputId": "e54690d5-5ac0-4cd8-db3f-62ca098d5385"
      },
      "execution_count": 282,
      "outputs": [
        {
          "output_type": "stream",
          "name": "stdout",
          "text": [
            "0.7700028431302995\n"
          ]
        }
      ]
    },
    {
      "cell_type": "code",
      "source": [
        "x_train.shape"
      ],
      "metadata": {
        "colab": {
          "base_uri": "https://localhost:8080/"
        },
        "id": "4cD65cewMBxF",
        "outputId": "5db7f4b5-baed-45c7-e5f8-79cb633bdf82"
      },
      "execution_count": 283,
      "outputs": [
        {
          "output_type": "execute_result",
          "data": {
            "text/plain": [
              "(936, 9)"
            ]
          },
          "metadata": {},
          "execution_count": 283
        }
      ]
    },
    {
      "cell_type": "markdown",
      "source": [
        "**POLYNOMIAL REGRESSION**"
      ],
      "metadata": {
        "id": "2QjNyV79YizE"
      }
    },
    {
      "cell_type": "code",
      "source": [
        "## using polynomial regression \n",
        "from sklearn.preprocessing import PolynomialFeatures\n",
        "poly_reg = PolynomialFeatures(degree=2)\n",
        "X_poly = poly_reg.fit_transform(x)\n"
      ],
      "metadata": {
        "id": "fKA-IxYWdoJI"
      },
      "execution_count": 348,
      "outputs": []
    },
    {
      "cell_type": "code",
      "source": [
        "from sklearn.model_selection import train_test_split\n",
        "x_poly_train,x_poly_test,y_train,y_test=train_test_split(X_poly,y,test_size=0.3,random_state=42)"
      ],
      "metadata": {
        "id": "KvL7HxdBQ-dc"
      },
      "execution_count": 349,
      "outputs": []
    },
    {
      "cell_type": "code",
      "source": [
        "from sklearn.linear_model import LinearRegression\n",
        "model = LinearRegression()\n",
        "model.fit(x_poly_train,y_train)"
      ],
      "metadata": {
        "colab": {
          "base_uri": "https://localhost:8080/",
          "height": 74
        },
        "id": "iMMyIF91Qexj",
        "outputId": "65438ef5-e7ca-47d5-8c3c-5805cf1887e1"
      },
      "execution_count": 351,
      "outputs": [
        {
          "output_type": "execute_result",
          "data": {
            "text/plain": [
              "LinearRegression()"
            ],
            "text/html": [
              "<style>#sk-container-id-12 {color: black;background-color: white;}#sk-container-id-12 pre{padding: 0;}#sk-container-id-12 div.sk-toggleable {background-color: white;}#sk-container-id-12 label.sk-toggleable__label {cursor: pointer;display: block;width: 100%;margin-bottom: 0;padding: 0.3em;box-sizing: border-box;text-align: center;}#sk-container-id-12 label.sk-toggleable__label-arrow:before {content: \"▸\";float: left;margin-right: 0.25em;color: #696969;}#sk-container-id-12 label.sk-toggleable__label-arrow:hover:before {color: black;}#sk-container-id-12 div.sk-estimator:hover label.sk-toggleable__label-arrow:before {color: black;}#sk-container-id-12 div.sk-toggleable__content {max-height: 0;max-width: 0;overflow: hidden;text-align: left;background-color: #f0f8ff;}#sk-container-id-12 div.sk-toggleable__content pre {margin: 0.2em;color: black;border-radius: 0.25em;background-color: #f0f8ff;}#sk-container-id-12 input.sk-toggleable__control:checked~div.sk-toggleable__content {max-height: 200px;max-width: 100%;overflow: auto;}#sk-container-id-12 input.sk-toggleable__control:checked~label.sk-toggleable__label-arrow:before {content: \"▾\";}#sk-container-id-12 div.sk-estimator input.sk-toggleable__control:checked~label.sk-toggleable__label {background-color: #d4ebff;}#sk-container-id-12 div.sk-label input.sk-toggleable__control:checked~label.sk-toggleable__label {background-color: #d4ebff;}#sk-container-id-12 input.sk-hidden--visually {border: 0;clip: rect(1px 1px 1px 1px);clip: rect(1px, 1px, 1px, 1px);height: 1px;margin: -1px;overflow: hidden;padding: 0;position: absolute;width: 1px;}#sk-container-id-12 div.sk-estimator {font-family: monospace;background-color: #f0f8ff;border: 1px dotted black;border-radius: 0.25em;box-sizing: border-box;margin-bottom: 0.5em;}#sk-container-id-12 div.sk-estimator:hover {background-color: #d4ebff;}#sk-container-id-12 div.sk-parallel-item::after {content: \"\";width: 100%;border-bottom: 1px solid gray;flex-grow: 1;}#sk-container-id-12 div.sk-label:hover label.sk-toggleable__label {background-color: #d4ebff;}#sk-container-id-12 div.sk-serial::before {content: \"\";position: absolute;border-left: 1px solid gray;box-sizing: border-box;top: 0;bottom: 0;left: 50%;z-index: 0;}#sk-container-id-12 div.sk-serial {display: flex;flex-direction: column;align-items: center;background-color: white;padding-right: 0.2em;padding-left: 0.2em;position: relative;}#sk-container-id-12 div.sk-item {position: relative;z-index: 1;}#sk-container-id-12 div.sk-parallel {display: flex;align-items: stretch;justify-content: center;background-color: white;position: relative;}#sk-container-id-12 div.sk-item::before, #sk-container-id-12 div.sk-parallel-item::before {content: \"\";position: absolute;border-left: 1px solid gray;box-sizing: border-box;top: 0;bottom: 0;left: 50%;z-index: -1;}#sk-container-id-12 div.sk-parallel-item {display: flex;flex-direction: column;z-index: 1;position: relative;background-color: white;}#sk-container-id-12 div.sk-parallel-item:first-child::after {align-self: flex-end;width: 50%;}#sk-container-id-12 div.sk-parallel-item:last-child::after {align-self: flex-start;width: 50%;}#sk-container-id-12 div.sk-parallel-item:only-child::after {width: 0;}#sk-container-id-12 div.sk-dashed-wrapped {border: 1px dashed gray;margin: 0 0.4em 0.5em 0.4em;box-sizing: border-box;padding-bottom: 0.4em;background-color: white;}#sk-container-id-12 div.sk-label label {font-family: monospace;font-weight: bold;display: inline-block;line-height: 1.2em;}#sk-container-id-12 div.sk-label-container {text-align: center;}#sk-container-id-12 div.sk-container {/* jupyter's `normalize.less` sets `[hidden] { display: none; }` but bootstrap.min.css set `[hidden] { display: none !important; }` so we also need the `!important` here to be able to override the default hidden behavior on the sphinx rendered scikit-learn.org. See: https://github.com/scikit-learn/scikit-learn/issues/21755 */display: inline-block !important;position: relative;}#sk-container-id-12 div.sk-text-repr-fallback {display: none;}</style><div id=\"sk-container-id-12\" class=\"sk-top-container\"><div class=\"sk-text-repr-fallback\"><pre>LinearRegression()</pre><b>In a Jupyter environment, please rerun this cell to show the HTML representation or trust the notebook. <br />On GitHub, the HTML representation is unable to render, please try loading this page with nbviewer.org.</b></div><div class=\"sk-container\" hidden><div class=\"sk-item\"><div class=\"sk-estimator sk-toggleable\"><input class=\"sk-toggleable__control sk-hidden--visually\" id=\"sk-estimator-id-12\" type=\"checkbox\" checked><label for=\"sk-estimator-id-12\" class=\"sk-toggleable__label sk-toggleable__label-arrow\">LinearRegression</label><div class=\"sk-toggleable__content\"><pre>LinearRegression()</pre></div></div></div></div></div>"
            ]
          },
          "metadata": {},
          "execution_count": 351
        }
      ]
    },
    {
      "cell_type": "code",
      "source": [],
      "metadata": {
        "id": "ndHXxaZ0PVJL"
      },
      "execution_count": 315,
      "outputs": []
    },
    {
      "cell_type": "code",
      "source": [],
      "metadata": {
        "id": "39IjuVP_P8xp"
      },
      "execution_count": null,
      "outputs": []
    },
    {
      "cell_type": "code",
      "source": [
        "x_poly_train.shape"
      ],
      "metadata": {
        "colab": {
          "base_uri": "https://localhost:8080/"
        },
        "id": "MD7kFt8D01Hl",
        "outputId": "36ac4fe7-ba95-403e-8d9e-1ab385295bf8"
      },
      "execution_count": 317,
      "outputs": [
        {
          "output_type": "execute_result",
          "data": {
            "text/plain": [
              "(936, 55)"
            ]
          },
          "metadata": {},
          "execution_count": 317
        }
      ]
    },
    {
      "cell_type": "code",
      "source": [
        "#prediction\n",
        "poly_pred = model.predict(x_poly_test)"
      ],
      "metadata": {
        "id": "lRQzr2dCd66b"
      },
      "execution_count": 352,
      "outputs": []
    },
    {
      "cell_type": "code",
      "source": [],
      "metadata": {
        "colab": {
          "base_uri": "https://localhost:8080/"
        },
        "id": "u5_3knerLMN6",
        "outputId": "e79c9c27-53e2-4ed9-9629-e1a079d71645"
      },
      "execution_count": 227,
      "outputs": [
        {
          "output_type": "execute_result",
          "data": {
            "text/plain": [
              "(936,)"
            ]
          },
          "metadata": {},
          "execution_count": 227
        }
      ]
    },
    {
      "cell_type": "code",
      "source": [],
      "metadata": {
        "colab": {
          "base_uri": "https://localhost:8080/"
        },
        "id": "zAT0dU-uMfgb",
        "outputId": "13d65895-3512-4c0f-e58f-62df2a04ad20"
      },
      "execution_count": 230,
      "outputs": [
        {
          "output_type": "execute_result",
          "data": {
            "text/plain": [
              "(402, 9)"
            ]
          },
          "metadata": {},
          "execution_count": 230
        }
      ]
    },
    {
      "cell_type": "code",
      "source": [],
      "metadata": {
        "colab": {
          "base_uri": "https://localhost:8080/"
        },
        "id": "QpFXJVkhK8Pj",
        "outputId": "65bd3f29-e9cc-478a-e7ff-e653fdda7db4"
      },
      "execution_count": 226,
      "outputs": [
        {
          "output_type": "execute_result",
          "data": {
            "text/plain": [
              "(402,)"
            ]
          },
          "metadata": {},
          "execution_count": 226
        }
      ]
    },
    {
      "cell_type": "code",
      "source": [
        "error_1=y_test-poly_pred"
      ],
      "metadata": {
        "id": "_9rsvql-eIxH"
      },
      "execution_count": 353,
      "outputs": []
    },
    {
      "cell_type": "code",
      "source": [
        "sns.displot(error_1,kind='kde')"
      ],
      "metadata": {
        "colab": {
          "base_uri": "https://localhost:8080/",
          "height": 523
        },
        "id": "EE5k5eHzeY-1",
        "outputId": "3a7355ff-b756-47da-ddf3-93544813e247"
      },
      "execution_count": 354,
      "outputs": [
        {
          "output_type": "execute_result",
          "data": {
            "text/plain": [
              "<seaborn.axisgrid.FacetGrid at 0x7f0cfa777580>"
            ]
          },
          "metadata": {},
          "execution_count": 354
        },
        {
          "output_type": "display_data",
          "data": {
            "text/plain": [
              "<Figure size 500x500 with 1 Axes>"
            ],
            "image/png": "[encoded data removed]"
          },
          "metadata": {}
        }
      ]
    },
    {
      "cell_type": "code",
      "source": [
        "##  above graph has better normal distribution graph than linear regression"
      ],
      "metadata": {
        "id": "KNDrCef_eiIY"
      },
      "execution_count": 355,
      "outputs": []
    },
    {
      "cell_type": "code",
      "source": [
        "plt.scatter(poly_pred,error_1)\n"
      ],
      "metadata": {
        "colab": {
          "base_uri": "https://localhost:8080/",
          "height": 447
        },
        "id": "DFlsfGdKe0Iv",
        "outputId": "0b14ce26-7a98-4690-cc67-20c965c524e4"
      },
      "execution_count": 356,
      "outputs": [
        {
          "output_type": "execute_result",
          "data": {
            "text/plain": [
              "<matplotlib.collections.PathCollection at 0x7f0cfadfe500>"
            ]
          },
          "metadata": {},
          "execution_count": 356
        },
        {
          "output_type": "display_data",
          "data": {
            "text/plain": [
              "<Figure size 640x480 with 1 Axes>"
            ],
            "image/png": "[encoded data removed]"
          },
          "metadata": {}
        }
      ]
    },
    {
      "cell_type": "code",
      "source": [
        "# better uniform distribution "
      ],
      "metadata": {
        "id": "yeg-3RG7e60L"
      },
      "execution_count": 114,
      "outputs": []
    },
    {
      "cell_type": "code",
      "source": [
        "from sklearn.metrics import mean_squared_error\n",
        "from sklearn.metrics import mean_absolute_error\n",
        "\n",
        "print(mean_absolute_error(y_test,poly_pred))\n",
        "print(mean_squared_error(y_test,poly_pred))\n",
        "print(np.sqrt(mean_squared_error(y_test,poly_pred)))"
      ],
      "metadata": {
        "colab": {
          "base_uri": "https://localhost:8080/"
        },
        "id": "S3ZN3bD9fFV8",
        "outputId": "1ec5c55d-1822-4397-fa77-091dd8e4694b"
      },
      "execution_count": 357,
      "outputs": [
        {
          "output_type": "stream",
          "name": "stdout",
          "text": [
            "2713.6019099813434\n",
            "20758235.408962924\n",
            "4556.120653468576\n"
          ]
        }
      ]
    },
    {
      "cell_type": "code",
      "source": [
        "from sklearn.metrics import r2_score\n",
        "print(r2_score(y_test,poly_pred)) \n"
      ],
      "metadata": {
        "colab": {
          "base_uri": "https://localhost:8080/"
        },
        "id": "v_SWRwCkfdgr",
        "outputId": "42aac4c9-e6b0-4914-ecaa-3156d82f34d6"
      },
      "execution_count": 358,
      "outputs": [
        {
          "output_type": "stream",
          "name": "stdout",
          "text": [
            "0.8584256897846368\n"
          ]
        }
      ]
    },
    {
      "cell_type": "code",
      "source": [
        "poly_pred"
      ],
      "metadata": {
        "colab": {
          "base_uri": "https://localhost:8080/"
        },
        "id": "QkcB8Y622OyS",
        "outputId": "1b16e946-882f-4c4f-a4af-641aedc6593f"
      },
      "execution_count": 360,
      "outputs": [
        {
          "output_type": "execute_result",
          "data": {
            "text/plain": [
              "array([11327.5703125,  5467.953125 , 33728.09375  , 10908.421875 ,\n",
              "       29917.46875  ,  3483.09375  ,  2387.84375  , 16358.484375 ,\n",
              "        3452.3671875, 12516.390625 , 19005.7109375,  9659.53125  ,\n",
              "        5815.2734375, 49783.6796875, 53262.390625 , 45649.1796875,\n",
              "       10351.546875 , 41706.8984375,  9830.3125   , 25834.1640625,\n",
              "        2237.5078125,  8201.203125 ,  2280.40625  ,  4998.5546875,\n",
              "       12466.46875  , 12672.1875   , 14794.296875 ,  7569.609375 ,\n",
              "       12206.3984375,  3713.4140625,  8849.8515625, 12002.6015625,\n",
              "        3238.90625  ,  5742.       ,  3695.421875 ,  8206.6953125,\n",
              "        4228.828125 ,  9000.       , 24739.359375 , 37113.8828125,\n",
              "        4966.703125 ,  5225.8984375, 13553.203125 , 13407.0390625,\n",
              "        7222.796875 , 14208.40625  ,  5930.9140625,  5059.078125 ,\n",
              "       40310.9765625,  6450.9921875, 15385.78125  ,  4493.234375 ,\n",
              "        6741.8671875,  3298.8515625, 13439.1796875, 12218.4765625,\n",
              "        4333.703125 , 36525.1875   , 14055.7109375, 12330.5234375,\n",
              "       16509.8515625,  4974.390625 , 15576.4921875,  8643.515625 ,\n",
              "       11878.4609375,  5035.4140625, 18818.59375  , 12845.0234375,\n",
              "        4046.7109375,  1291.5625   ,  7888.265625 , 12782.296875 ,\n",
              "        9485.546875 ,  8871.0390625,  9258.6015625,  6180.2734375,\n",
              "        7850.8984375, 11027.3984375,  6480.0546875,  9834.515625 ,\n",
              "        3725.2734375, 32947.140625 ,  6561.7109375, 40506.359375 ,\n",
              "       53757.375    , 36369.09375  ,  7232.9921875, 12540.25     ,\n",
              "        9721.328125 , 11867.7109375, 18577.890625 , 28032.640625 ,\n",
              "       28165.078125 ,  6876.3515625, 37175.0390625,  7561.4921875,\n",
              "       27067.9140625,  3403.125    , 19220.171875 ,  8723.1875   ,\n",
              "        5612.4765625,  3461.9140625,  6926.4140625, 13212.6796875,\n",
              "       12787.15625  ,  4196.453125 , 10294.359375 , 20486.625    ,\n",
              "        2242.8515625, 23322.3671875,  2080.5390625,  2287.640625 ,\n",
              "       15572.7421875, 34284.0078125, 12289.21875  ,  2668.9765625,\n",
              "       13515.15625  , 28179.2109375,  8293.46875  ,  5036.9609375,\n",
              "        8776.84375  ,  9833.3359375, 14669.828125 ,  3911.4921875,\n",
              "        5728.78125  ,  9284.25     ,  8734.203125 , 10647.8828125,\n",
              "       13657.4765625,  2345.265625 ,  5330.265625 ,  8298.1171875,\n",
              "        7569.3359375,  9495.09375  ,  7050.8359375, 14184.8203125,\n",
              "        5637.640625 , 32467.9140625, 43409.90625  , 32351.3515625,\n",
              "        5248.6328125, 11647.890625 ,  4302.7578125, 12504.671875 ,\n",
              "        4320.09375  , 27320.015625 ,  7408.890625 ,  5285.2578125,\n",
              "       13348.28125  ,  5657.3984375, 45928.578125 ,  3390.921875 ,\n",
              "        1957.796875 , 34863.953125 ,  6413.0703125,  5849.890625 ,\n",
              "       14834.0546875, 10229.140625 , 30316.4375   , 35440.578125 ,\n",
              "       16748.15625  ,  4187.6796875, 16355.2109375,  3303.7421875,\n",
              "        3481.25     ,  9467.7578125, 52304.3359375, 37319.3828125,\n",
              "       34384.9453125,  4164.7578125,  9921.4140625,  7743.109375 ,\n",
              "        5985.9296875,  5936.921875 ,  3792.1640625, 25784.5703125,\n",
              "       23806.6171875, 16382.796875 ,  8788.7890625, 10901.9375   ,\n",
              "       35995.9453125,  3923.765625 ,  8117.7421875,  6347.9140625,\n",
              "        5893.359375 ,  3457.609375 ,  5947.6171875,  5076.796875 ,\n",
              "        7670.2421875, 12123.8125   ,  3134.1875   ,  5494.171875 ,\n",
              "        4790.984375 , 37637.1484375, 15699.2734375, 10492.5234375,\n",
              "        4002.921875 , 14865.921875 ,  5195.6796875, 10612.4296875,\n",
              "        2883.65625  , 30811.8984375,  4846.921875 ,  5558.640625 ,\n",
              "       21841.1015625, 19208.9609375, 10063.0625   ,  5371.3203125,\n",
              "        9336.375    ,  3931.1328125, 14359.1328125, 13245.71875  ,\n",
              "       10766.34375  , 23047.34375  ,  8414.0703125,  6369.640625 ,\n",
              "        6501.9921875, 15945.203125 , 13795.109375 ,  6785.0390625,\n",
              "        2906.671875 ,  8017.1875   ,  6549.984375 , 43210.1875   ,\n",
              "        4077.7890625, 30189.421875 ,  2784.65625  ,  3804.6171875,\n",
              "       12151.953125 , 12310.265625 ,  3327.890625 ,  7208.59375  ,\n",
              "        5550.9921875, 29509.4765625,  7614.7578125, 10331.296875 ,\n",
              "        6642.546875 ,  7173.78125  , 45375.546875 ,  3911.9296875,\n",
              "       11730.609375 , 36103.6796875,  3468.125    ,  5362.5390625,\n",
              "        3355.1484375,  4580.6796875,  5695.921875 ,  4911.1484375,\n",
              "       12732.1484375,  1414.203125 ,  3541.515625 ,  7219.5234375,\n",
              "        4620.5625   , 11990.5859375,  4552.921875 ,  5153.375    ,\n",
              "       14596.3359375,  5698.640625 ,  7974.6875   , 10554.40625  ,\n",
              "        9734.9921875, 11969.109375 , 26382.78125  , 47176.9609375,\n",
              "       12053.421875 ,  7355.25     , 56444.1171875, 11646.1796875,\n",
              "        8296.359375 ,  9294.4296875, 10632.109375 , 10501.5546875,\n",
              "       12110.921875 , 15641.84375  ,  3619.15625  , 13321.0625   ,\n",
              "        7934.1171875, 36800.4765625,  5977.1328125, 11538.3125   ,\n",
              "        8994.8359375, 16466.2578125,  7787.7265625, 10616.890625 ,\n",
              "       34937.4453125,  3831.8046875, 11135.75     , 51297.7109375,\n",
              "        5799.7734375,  4227.7890625,  5577.2109375, 13128.9375   ,\n",
              "       10352.671875 , 13405.5625   ,  9936.0390625, 10114.796875 ,\n",
              "       11807.8359375,  3841.4453125,  3840.3203125, 40576.09375  ,\n",
              "       31241.6875   ,  6724.0546875,  5803.03125  , 21406.3046875,\n",
              "       15947.328125 , 35800.328125 ,  5642.8125   , 46008.2734375,\n",
              "        6353.671875 ,  2252.9375   ,  7357.625    ,  4502.75     ,\n",
              "       18516.7734375, 15944.03125  ,  2178.6953125, 13652.953125 ,\n",
              "       13082.484375 , 12215.3828125, 42084.921875 , 14164.5      ,\n",
              "       24502.3671875,  9135.4921875, 16233.09375  ,  4465.484375 ,\n",
              "        9797.875    ,  8718.5546875, 17003.53125  , 11246.3203125,\n",
              "        4962.1953125, 11867.203125 , 14447.609375 , 13233.1328125,\n",
              "        5346.5546875, 26862.1484375,  7988.59375  ,  3545.9453125,\n",
              "        6293.4765625, 10145.6796875, 41788.4765625, 10342.9453125,\n",
              "       14042.453125 ,  8093.171875 ,  7160.7578125,  3458.6484375,\n",
              "        5542.7265625,  8833.5078125,  7864.0859375,  3392.0234375,\n",
              "       12272.625    ,  7875.0390625,  5328.8828125,  4071.2109375,\n",
              "       11482.0546875,  3722.125    , 36612.9296875, 37322.2734375,\n",
              "       44549.8515625,  4397.2421875, 10037.6875   ,  7431.4453125,\n",
              "        3210.1953125, 25720.953125 ,  7104.9921875, 14083.859375 ,\n",
              "       42900.8046875,  7193.703125 , 15079.359375 ,  7456.1328125,\n",
              "        9051.4453125, 13732.6953125, 17018.46875  , 11818.109375 ,\n",
              "        7533.2109375,  5408.3984375,  2594.8828125, 13078.1875   ,\n",
              "       28685.4140625, 13829.1328125, 11343.1171875,  2600.5234375,\n",
              "        4825.1015625,  7216.515625 ,  9491.5625   , 10685.3046875,\n",
              "       26637.3203125, 47679.8671875, 14137.6328125,  7283.40625  ,\n",
              "       14857.4296875, 12896.546875 ,  6561.7734375,  3517.171875 ,\n",
              "        9454.3671875,  3198.25     ,  9853.9140625,  5809.9609375,\n",
              "       13826.640625 ,  9753.2265625,  6722.0390625,  5415.734375 ,\n",
              "       14177.84375  ,  2003.9453125])"
            ]
          },
          "metadata": {},
          "execution_count": 360
        }
      ]
    },
    {
      "cell_type": "code",
      "source": [
        "model.predict(poly_reg.fit_transform([[15,1,25,2,1,0,0,0,0]]))"
      ],
      "metadata": {
        "colab": {
          "base_uri": "https://localhost:8080/"
        },
        "id": "jWfC0QucTpr3",
        "outputId": "1f33b96f-b028-4992-e474-32d7bf601d2b"
      },
      "execution_count": 366,
      "outputs": [
        {
          "output_type": "execute_result",
          "data": {
            "text/plain": [
              "array([18193.7421875])"
            ]
          },
          "metadata": {},
          "execution_count": 366
        }
      ]
    },
    {
      "cell_type": "code",
      "source": [],
      "metadata": {
        "colab": {
          "base_uri": "https://localhost:8080/"
        },
        "id": "6QSYkyZbSCMu",
        "outputId": "81b71208-b078-4742-e49e-3308aa81cd7d"
      },
      "execution_count": 365,
      "outputs": [
        {
          "output_type": "execute_result",
          "data": {
            "text/plain": [
              "(936, 55)"
            ]
          },
          "metadata": {},
          "execution_count": 365
        }
      ]
    },
    {
      "cell_type": "code",
      "source": [
        "import pickle"
      ],
      "metadata": {
        "id": "Mi2Gz-IdfkzC"
      },
      "execution_count": 367,
      "outputs": []
    },
    {
      "cell_type": "code",
      "source": [
        "pickle.dump(model,open('regression_model.pkl','wb'))"
      ],
      "metadata": {
        "id": "LKfFIzvdgGBQ"
      },
      "execution_count": 368,
      "outputs": []
    },
    {
      "cell_type": "code",
      "source": [
        "#loading pickle model\n",
        "pickled_model=pickle.load(open('regression_model.pkl','rb'))"
      ],
      "metadata": {
        "id": "ITnvuEvWgzTI"
      },
      "execution_count": 369,
      "outputs": []
    },
    {
      "cell_type": "code",
      "source": [
        "pickled_model.predict(poly_reg.fit_transform([[15,1,25,2,1,0,0,0,0]]))   "
      ],
      "metadata": {
        "id": "WyfoA3OUhJmV",
        "colab": {
          "base_uri": "https://localhost:8080/"
        },
        "outputId": "18694438-d79f-483f-e957-93e434ae7a63"
      },
      "execution_count": 371,
      "outputs": [
        {
          "output_type": "execute_result",
          "data": {
            "text/plain": [
              "array([18193.7421875])"
            ]
          },
          "metadata": {},
          "execution_count": 371
        }
      ]
    },
    {
      "cell_type": "code",
      "source": [
        "#got same output from pickle as above"
      ],
      "metadata": {
        "id": "fIXdN95TzYEe"
      },
      "execution_count": null,
      "outputs": []
    },
    {
      "cell_type": "code",
      "source": [],
      "metadata": {
        "id": "gv5o75vAXhCK"
      },
      "execution_count": null,
      "outputs": []
    }
  ]
}